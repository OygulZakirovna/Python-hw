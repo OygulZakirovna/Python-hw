{
 "cells": [
  {
   "cell_type": "code",
   "execution_count": null,
   "metadata": {},
   "outputs": [],
   "source": [
    "# Python Dictionary and Set Exercises\n",
    "# ***\n",
    "# Dictionary Exercises"
   ]
  },
  {
   "cell_type": "code",
   "execution_count": 2,
   "metadata": {},
   "outputs": [
    {
     "name": "stdout",
     "output_type": "stream",
     "text": [
      "Ascending order: {'language': 7, 'physics': 9, 'history': 9, 'math': 10, 'phylosophy': 12}\n",
      "Descending order: {'phylosophy': 12, 'math': 10, 'physics': 9, 'history': 9, 'language': 7}\n"
     ]
    }
   ],
   "source": [
    "# 1. Sort a Dictionary by Value\n",
    "# Write a Python script to sort (ascending and descending) a dictionary by value.\n",
    "\n",
    "my_dict = {\"math\": 10, \"physics\":9, \"language\": 7, \"phylosophy\": 12, \"history\": 9}\n",
    "asc_sorted = dict(sorted(my_dict.items(), key = lambda item: item[1]))\n",
    "print(\"Ascending order:\", asc_sorted)\n",
    "\n",
    "desc_sorted = dict(sorted(my_dict.items(), key=lambda item: item[1], reverse=True))\n",
    "print(\"Descending order:\", desc_sorted)"
   ]
  },
  {
   "cell_type": "code",
   "execution_count": 4,
   "metadata": {},
   "outputs": [
    {
     "name": "stdout",
     "output_type": "stream",
     "text": [
      "{0: 10, 1: 20, 2: 30}\n",
      "{0: 10, 1: 20, 2: 30}\n"
     ]
    }
   ],
   "source": [
    "# 2. Add a Key to a Dictionary\n",
    "# Write a Python script to add a key to a dictionary.\n",
    "\n",
    "# Sample Dictionary:\n",
    "\n",
    "# {0: 10, 1: 20}\n",
    "# Expected Result:\n",
    "\n",
    "# {0: 10, 1: 20, 2: 30}\n",
    "\n",
    "d = {0: 10, 1: 20}\n",
    "d[2]=30           #1\n",
    "print(d)\n",
    "\n",
    "d.update({2:30})  #2\n",
    "print(d)"
   ]
  },
  {
   "cell_type": "code",
   "execution_count": 9,
   "metadata": {},
   "outputs": [
    {
     "name": "stdout",
     "output_type": "stream",
     "text": [
      "{1: 10, 2: 20, 3: 30, 4: 40, 5: 50, 6: 60}\n",
      "{1: 10, 2: 20, 3: 30, 4: 40, 5: 50, 6: 60}\n",
      "{1: 10, 2: 20, 3: 30, 4: 40, 5: 50, 6: 60}\n"
     ]
    }
   ],
   "source": [
    "# 3. Concatenate Multiple Dictionaries\n",
    "# Write a Python script to concatenate the following dictionaries to create a new one.\n",
    "\n",
    "# Sample Dictionaries:\n",
    "\n",
    "# dic1 = {1: 10, 2: 20}\n",
    "# dic2 = {3: 30, 4: 40}\n",
    "# dic3 = {5: 50, 6: 60}\n",
    "# Expected Result:\n",
    "\n",
    "# {1: 10, 2: 20, 3: 30, 4: 40, 5: 50, 6: 60}\n",
    "\n",
    "dic1 = {1: 10, 2: 20}\n",
    "dic2 = {3: 30, 4: 40}\n",
    "dic3 = {5: 50, 6: 60}\n",
    "\n",
    "d = dic1 | dic2 | dic3   #1\n",
    "print(d)\n",
    "\n",
    "d1 = {**dic1, **dic2, **dic3} #2\n",
    "print(d1)\n",
    "\n",
    "d2 = {}\n",
    "\n",
    "for b in (dic1, dic2, dic3):\n",
    "    d2.update(b)\n",
    "\n",
    "print(d2)"
   ]
  },
  {
   "cell_type": "code",
   "execution_count": 11,
   "metadata": {},
   "outputs": [
    {
     "name": "stdout",
     "output_type": "stream",
     "text": [
      "{1: 1, 2: 4, 3: 9, 4: 16, 5: 25}\n",
      "{1: 1, 2: 4, 3: 9, 4: 16, 5: 25}\n"
     ]
    }
   ],
   "source": [
    "# 4. Generate a Dictionary with Squares\n",
    "# Write a Python script to generate and print a dictionary that contains a number (between 1 and n) in the form (x, x*x).\n",
    "\n",
    "# Sample Dictionary (n = 5):\n",
    "\n",
    "# {1: 1, 2: 4, 3: 9, 4: 16, 5: 25}\n",
    "\n",
    "n = 5\n",
    "d = {}\n",
    "\n",
    "for x in range(1, n + 1):  #1\n",
    "    d[x] = x * x\n",
    "\n",
    "print(d)\n",
    "\n",
    "d1 = {x: x * x for x in range(1, n + 1)}  #2\n",
    "print(d1)"
   ]
  },
  {
   "cell_type": "code",
   "execution_count": 12,
   "metadata": {},
   "outputs": [
    {
     "name": "stdout",
     "output_type": "stream",
     "text": [
      "{1: 1, 2: 4, 3: 9, 4: 16, 5: 25, 6: 36, 7: 49, 8: 64, 9: 81, 10: 100, 11: 121, 12: 144, 13: 169, 14: 196, 15: 225}\n"
     ]
    }
   ],
   "source": [
    "# 5. Dictionary of Squares (1 to 15)\n",
    "# Write a Python script to print a dictionary where the keys are numbers between 1 and 15 (both included) and the values are the square of the keys.\n",
    "\n",
    "# Expected Output:\n",
    "\n",
    "# {1: 1, 2: 4, 3: 9, 4: 16, 5: 25, 6: 36, 7: 49, 8: 64, 9: 81, 10: 100, 11: 121, 12: 144, 13: 169, 14: 196, 15: 225}\n",
    "\n",
    "d = {x : x*x for x in range(1, 16)}\n",
    "print(d)"
   ]
  },
  {
   "cell_type": "code",
   "execution_count": 18,
   "metadata": {},
   "outputs": [
    {
     "name": "stdout",
     "output_type": "stream",
     "text": [
      "{'a', 'b'}\n",
      "{'a'}\n"
     ]
    }
   ],
   "source": [
    "# ***Set Exercises\n",
    "# 1. Create a Set\n",
    "# Write a Python program to create a set.\n",
    "\n",
    "#1\n",
    "a = { \"a\", \"b\", \"c\"}\n",
    "\n",
    "#2\n",
    "\n",
    "a = set([\"a\",\"b\"])\n",
    "print(a)\n",
    "\n",
    "#3\n",
    "\n",
    "a=set(\"a\")\n",
    "print(a)"
   ]
  },
  {
   "cell_type": "code",
   "execution_count": 21,
   "metadata": {},
   "outputs": [
    {
     "name": "stdout",
     "output_type": "stream",
     "text": [
      "25\n",
      "5\n",
      "125\n"
     ]
    }
   ],
   "source": [
    "# 2. Iterate Over a Set\n",
    "# Write a Python program to iterate over sets.\n",
    "a = {5, 25, 125}\n",
    "\n",
    "for item in a:\n",
    "    print(item)\n"
   ]
  },
  {
   "cell_type": "code",
   "execution_count": 22,
   "metadata": {},
   "outputs": [
    {
     "name": "stdout",
     "output_type": "stream",
     "text": [
      "{1, 2, 3, 4, 5, 6, 7, 8, 9, 10}\n"
     ]
    }
   ],
   "source": [
    "# 3. Add Member(s) to a Set\n",
    "# Write a Python program to add member(s) to a set.\n",
    "\n",
    "nums = {1, 2, 3}\n",
    "nums.update([4, 5, 6])\n",
    "\n",
    "nums.update({7, 8}, (9, 10))\n",
    "\n",
    "print(nums)"
   ]
  },
  {
   "cell_type": "code",
   "execution_count": 27,
   "metadata": {},
   "outputs": [
    {
     "name": "stdout",
     "output_type": "stream",
     "text": [
      "{1, 3, 5}\n"
     ]
    }
   ],
   "source": [
    "# 4. Remove Item(s) from a Set\n",
    "# Write a Python program to remove item(s) from a given set.\n",
    "s = {1, 2, 3, 5}\n",
    "s.discard(2)\n",
    "print(s)"
   ]
  },
  {
   "cell_type": "code",
   "execution_count": 28,
   "metadata": {},
   "outputs": [
    {
     "name": "stdout",
     "output_type": "stream",
     "text": [
      "{'c', 'a', 'd'}\n"
     ]
    }
   ],
   "source": [
    "# 5. Remove an Item if Present in the Set\n",
    "# Write a Python program to remove an item from a set if it is present in the set.\n",
    "s = {\"a\", \"b\", \"c\", \"d\"}\n",
    "\n",
    "item_remove = \"b\"\n",
    "\n",
    "if item_remove in s:\n",
    "    s.remove(item_remove)\n",
    "\n",
    "print(s)  "
   ]
  }
 ],
 "metadata": {
  "kernelspec": {
   "display_name": "Python 3",
   "language": "python",
   "name": "python3"
  },
  "language_info": {
   "codemirror_mode": {
    "name": "ipython",
    "version": 3
   },
   "file_extension": ".py",
   "mimetype": "text/x-python",
   "name": "python",
   "nbconvert_exporter": "python",
   "pygments_lexer": "ipython3",
   "version": "3.12.8"
  }
 },
 "nbformat": 4,
 "nbformat_minor": 2
}
