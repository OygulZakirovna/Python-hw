{
 "cells": [
  {
   "cell_type": "code",
   "execution_count": null,
   "metadata": {},
   "outputs": [],
   "source": [
    "# 1. Convert List to 1D Array\n",
    "# Write a NumPy program to convert a list of numeric values into a one-dimensional NumPy array.\n",
    "\n",
    "# Expected Output:\n",
    "\n",
    "# Original List: [12.23, 13.32, 100, 36.32] One-dimensional NumPy array: [ 12.23 13.32 100. 36.32]"
   ]
  },
  {
   "cell_type": "code",
   "execution_count": 1,
   "metadata": {},
   "outputs": [],
   "source": [
    "import numpy as np"
   ]
  },
  {
   "cell_type": "code",
   "execution_count": 13,
   "metadata": {},
   "outputs": [
    {
     "data": {
      "text/plain": [
       "array([ 12.23,  13.32, 100.  ,  36.32])"
      ]
     },
     "execution_count": 13,
     "metadata": {},
     "output_type": "execute_result"
    }
   ],
   "source": [
    "\n",
    "ls = [12.23, 13.32, 100, 36.32]\n",
    "a = np.array(ls)\n",
    "a"
   ]
  },
  {
   "cell_type": "code",
   "execution_count": null,
   "metadata": {},
   "outputs": [],
   "source": [
    "# 2. Create 3x3 Matrix (2?10)\n",
    "# Write a NumPy program to create a 3x3 matrix with values ranging from 2 to 10.\n",
    "\n",
    "# Expected Output:\n",
    "\n",
    "# [[ 2 3 4] [ 5 6 7] [ 8 9 10]]"
   ]
  },
  {
   "cell_type": "code",
   "execution_count": 18,
   "metadata": {},
   "outputs": [
    {
     "data": {
      "text/plain": [
       "array([[ 2,  3,  4],\n",
       "       [ 5,  6,  7],\n",
       "       [ 8,  9, 10]])"
      ]
     },
     "execution_count": 18,
     "metadata": {},
     "output_type": "execute_result"
    }
   ],
   "source": [
    "a = np.arange(2, 11)\n",
    "matrix = a.reshape(3,3)\n",
    "matrix"
   ]
  },
  {
   "cell_type": "code",
   "execution_count": 20,
   "metadata": {},
   "outputs": [
    {
     "data": {
      "text/plain": [
       "array([[ 2,  3,  4],\n",
       "       [ 5,  6,  7],\n",
       "       [ 8,  9, 10]])"
      ]
     },
     "execution_count": 20,
     "metadata": {},
     "output_type": "execute_result"
    }
   ],
   "source": [
    "matrix = np.arange(2, 11).reshape(3,3)\n",
    "matrix"
   ]
  },
  {
   "cell_type": "code",
   "execution_count": 26,
   "metadata": {},
   "outputs": [
    {
     "name": "stdout",
     "output_type": "stream",
     "text": [
      "[ 0.  0.  0.  0.  0.  0. 11.  0.  0.  0.]\n"
     ]
    }
   ],
   "source": [
    "# 3. Null Vector (10) & Update Sixth Value\n",
    "# Write a NumPy program to create a null vector of size 10 and update the sixth value to 11.\n",
    "\n",
    "# [ 0. 0. 0. 0. 0. 0. 0. 0. 0. 0.]\n",
    "\n",
    "# Update sixth value to 11 [ 0. 0. 0. 0. 0. 0. 11. 0. 0. 0.]\n",
    "\n",
    "\n",
    "vector = np.zeros(10)\n",
    "vector[6] = 11\n",
    "print(vector)"
   ]
  },
  {
   "cell_type": "code",
   "execution_count": null,
   "metadata": {},
   "outputs": [],
   "source": [
    "# 4. Array from 12 to 38\n",
    "# Write a NumPy program to create an array with values ranging from 12 to 38.\n",
    "\n",
    "# Expected Output:\n",
    "\n",
    "# [12 13 14 15 16 17 18 19 20 21 22 23 24 25 26 27 28 29 30 31 32 33 34 35 36 37]"
   ]
  },
  {
   "cell_type": "code",
   "execution_count": 29,
   "metadata": {},
   "outputs": [
    {
     "data": {
      "text/plain": [
       "array([12, 13, 14, 15, 16, 17, 18, 19, 20, 21, 22, 23, 24, 25, 26, 27, 28,\n",
       "       29, 30, 31, 32, 33, 34, 35, 36, 37])"
      ]
     },
     "execution_count": 29,
     "metadata": {},
     "output_type": "execute_result"
    }
   ],
   "source": [
    "a = np.arange(12,38)\n",
    "a"
   ]
  },
  {
   "cell_type": "code",
   "execution_count": null,
   "metadata": {},
   "outputs": [],
   "source": [
    "# 5. Convert Array to Float Type\n",
    "# Write a NumPy program to convert an array to a floating type.\n",
    "\n",
    "# Sample output:\n",
    "\n",
    "# Original array [1, 2, 3, 4]"
   ]
  },
  {
   "cell_type": "code",
   "execution_count": 33,
   "metadata": {},
   "outputs": [
    {
     "data": {
      "text/plain": [
       "array([1., 2., 3., 4.])"
      ]
     },
     "execution_count": 33,
     "metadata": {},
     "output_type": "execute_result"
    }
   ],
   "source": [
    "a = np.array([1, 2, 3, 4])\n",
    "b = a.astype(float)\n",
    "b"
   ]
  },
  {
   "cell_type": "code",
   "execution_count": null,
   "metadata": {},
   "outputs": [],
   "source": [
    "# 6. Celsius to Fahrenheit Conversion\n",
    "# Write a NumPy program to convert Centigrade degrees into Fahrenheit degrees. Centigrade values are stored in a NumPy array.\n",
    "\n",
    "# Sample Array [0, 12, 45.21, 34, 99.91] [-17.78, -11.11, 7.34, 1.11, 37.73, 0. ]\n",
    "\n",
    "# Expected Output:\n",
    "\n",
    "# Values in Fahrenheit degrees: [ 0. 12. 45.21 34. 99.91 32. ]\n",
    "\n",
    "# Values in Centigrade degrees: [-17.78 -11.11 7.34 1.11 37.73 0. ]\n",
    "\n",
    "# Values in Centigrade degrees: [-17.78 -11.11 7.34 1.11 37.73 0. ]\n",
    "\n",
    "# Values in Fahrenheit degrees: [-0. 12. 45.21 34. 99.91 32. ]"
   ]
  },
  {
   "cell_type": "code",
   "execution_count": 34,
   "metadata": {},
   "outputs": [
    {
     "name": "stdout",
     "output_type": "stream",
     "text": [
      "Values in Centigrade degrees: [ 0.   12.   45.21 34.   99.91]\n",
      "Values in Fahrenheit degrees: [ 32.     53.6   113.378  93.2   211.838]\n"
     ]
    }
   ],
   "source": [
    "import numpy as np\n",
    "\n",
    "\n",
    "celsius_values = np.array([0, 12, 45.21, 34, 99.91])\n",
    "\n",
    "\n",
    "fahrenheit_values = (celsius_values * 9/5) + 32\n",
    "\n",
    "print(\"Values in Centigrade degrees:\", celsius_values)\n",
    "print(\"Values in Fahrenheit degrees:\", fahrenheit_values)\n"
   ]
  },
  {
   "cell_type": "code",
   "execution_count": 61,
   "metadata": {},
   "outputs": [
    {
     "data": {
      "text/plain": [
       "array([10, 20, 30, 40, 50, 60, 70, 80, 90])"
      ]
     },
     "execution_count": 61,
     "metadata": {},
     "output_type": "execute_result"
    }
   ],
   "source": [
    "# 7. Append Values to Array (Do self-tudy)\n",
    "# Write a NumPy program to append values to the end of an array.\n",
    "\n",
    "# Expected Output:\n",
    "\n",
    "# Original array: [10, 20, 30]\n",
    "\n",
    "# After append values to the end of the array: [10 20 30 40 50 60 70 80 90]\n",
    "\n",
    "array = [10, 20, 30]\n",
    "b = [40, 50, 60, 70, 80, 90]\n",
    "array = np.append(array, b)\n",
    "array"
   ]
  },
  {
   "cell_type": "code",
   "execution_count": 60,
   "metadata": {},
   "outputs": [
    {
     "name": "stdout",
     "output_type": "stream",
     "text": [
      "\n",
      "Mean: 0.6880913510856282\n",
      "Median: 0.46337919443642056\n",
      "Standard Deviation: 0.29895523673047675\n"
     ]
    }
   ],
   "source": [
    "# 8. Array Statistical Functions (Do self-tudy)\n",
    "# Create a random NumPy array of 10 elements and calculate the mean, median, and standard deviation of the array.\n",
    "import numpy as np\n",
    "array = np.random.random((10))\n",
    "median_val = np.median(array)\n",
    "std_val = array.std()\n",
    "print(\"\\nMean:\", mean_val)\n",
    "print(\"Median:\", median_val)\n",
    "print(\"Standard Deviation:\", std_val)"
   ]
  },
  {
   "cell_type": "code",
   "execution_count": 43,
   "metadata": {},
   "outputs": [
    {
     "name": "stdout",
     "output_type": "stream",
     "text": [
      "0.0002031304187457561 0.9954605059105361\n"
     ]
    }
   ],
   "source": [
    "# 9 Find min and max\n",
    "# Create a 10x10 array with random values and find the minimum and maximum values.\n",
    "\n",
    "array = np.random.random((10,10))\n",
    "min_val = array.min()\n",
    "max_val = array.max()\n",
    "print(min_val, max_val)"
   ]
  },
  {
   "cell_type": "code",
   "execution_count": null,
   "metadata": {},
   "outputs": [],
   "source": [
    "# 10\n",
    "# Create a 3x3x3 array with random values."
   ]
  },
  {
   "cell_type": "code",
   "execution_count": 35,
   "metadata": {},
   "outputs": [
    {
     "name": "stdout",
     "output_type": "stream",
     "text": [
      "[[[0.07217738 0.77314196 0.25898687]\n",
      "  [0.61576018 0.62924073 0.33812599]\n",
      "  [0.42028495 0.4012019  0.00868816]]\n",
      "\n",
      " [[0.84733162 0.24977037 0.73083104]\n",
      "  [0.12447727 0.78113463 0.93505164]\n",
      "  [0.3398015  0.13284061 0.42866524]]\n",
      "\n",
      " [[0.53070055 0.83645376 0.8697712 ]\n",
      "  [0.8633823  0.86293809 0.6119591 ]\n",
      "  [0.46117758 0.4267626  0.934429  ]]]\n"
     ]
    }
   ],
   "source": [
    "array = np.random.random((3, 3, 3))\n",
    "\n",
    "print(array)"
   ]
  },
  {
   "cell_type": "code",
   "execution_count": null,
   "metadata": {},
   "outputs": [],
   "source": []
  },
  {
   "cell_type": "code",
   "execution_count": null,
   "metadata": {},
   "outputs": [],
   "source": []
  }
 ],
 "metadata": {
  "kernelspec": {
   "display_name": "Python 3",
   "language": "python",
   "name": "python3"
  },
  "language_info": {
   "codemirror_mode": {
    "name": "ipython",
    "version": 3
   },
   "file_extension": ".py",
   "mimetype": "text/x-python",
   "name": "python",
   "nbconvert_exporter": "python",
   "pygments_lexer": "ipython3",
   "version": "3.12.9"
  }
 },
 "nbformat": 4,
 "nbformat_minor": 2
}
