{
 "cells": [
  {
   "cell_type": "code",
   "execution_count": null,
   "metadata": {},
   "outputs": [],
   "source": [
    "# Review Exercises\n",
    "# Create a new database with a table named Roster that has three fields: Name, Species, and Age. The Name and Species columns should be text fields, and the Age column should be an integer field.\n",
    "\n",
    "# Populate your new table with the following values:\n",
    "\n",
    "# Name\tSpecies\tAge\n",
    "# Benjamin Sisko\tHuman\t40\n",
    "# Jadzia Dax\tTrill\t300\n",
    "# Kira Nerys\tBajoran\t29\n",
    "# Update the Name of Jadzia Dax to be Ezri Dax\n",
    "\n",
    "# Display the Name and Age of everyone in the table classified as Bajoran."
   ]
  },
  {
   "cell_type": "code",
   "execution_count": 7,
   "metadata": {},
   "outputs": [
    {
     "name": "stdout",
     "output_type": "stream",
     "text": [
      "Name: Kira Nerys | Age: 29\n",
      "Name: Kira Nerys | Age: 29\n"
     ]
    }
   ],
   "source": [
    "import sqlite3\n",
    "\n",
    "conn = sqlite3.connect('starfleet.db')\n",
    "cursor = conn.cursor()\n",
    "\n",
    "\n",
    "cursor.execute('''\n",
    "CREATE TABLE IF NOT EXISTS Roster (\n",
    "    Name TEXT,\n",
    "    Species TEXT,\n",
    "    Age INTEGER\n",
    ")\n",
    "''')\n",
    "\n",
    "\n",
    "roster_data = [\n",
    "    ('Benjamin Sisko', 'Human', 40),\n",
    "    ('Jadzia Dax', 'Trill', 300),\n",
    "    ('Kira Nerys', 'Bajoran', 29)\n",
    "]\n",
    "cursor.executemany('INSERT INTO Roster (Name, Species, Age) VALUES (?, ?, ?)', roster_data)\n",
    "\n",
    "\n",
    "cursor.execute(\"UPDATE Roster SET Name = 'Ezri Dax' WHERE Name = 'Jadzia Dax'\")\n",
    "\n",
    "\n",
    "cursor.execute(\"SELECT Name, Age FROM Roster WHERE Species = 'Bajoran'\")\n",
    "for name, age in cursor.fetchall():\n",
    "    print(\"Name:\", name, \"| Age:\", age)\n",
    "\n",
    "\n",
    "conn.commit()\n",
    "conn.close()"
   ]
  },
  {
   "cell_type": "code",
   "execution_count": null,
   "metadata": {},
   "outputs": [],
   "source": []
  }
 ],
 "metadata": {
  "kernelspec": {
   "display_name": "Python 3",
   "language": "python",
   "name": "python3"
  },
  "language_info": {
   "codemirror_mode": {
    "name": "ipython",
    "version": 3
   },
   "file_extension": ".py",
   "mimetype": "text/x-python",
   "name": "python",
   "nbconvert_exporter": "python",
   "pygments_lexer": "ipython3",
   "version": "3.12.9"
  }
 },
 "nbformat": 4,
 "nbformat_minor": 2
}
