{
 "cells": [
  {
   "cell_type": "code",
   "execution_count": 2,
   "metadata": {},
   "outputs": [
    {
     "name": "stdout",
     "output_type": "stream",
     "text": [
      "Requirement already satisfied: pandas in c:\\users\\acer\\appdata\\local\\programs\\python\\python312\\lib\\site-packages (2.2.3)\n",
      "Requirement already satisfied: numpy>=1.26.0 in c:\\users\\acer\\appdata\\local\\programs\\python\\python312\\lib\\site-packages (from pandas) (2.2.5)\n",
      "Requirement already satisfied: python-dateutil>=2.8.2 in c:\\users\\acer\\appdata\\roaming\\python\\python312\\site-packages (from pandas) (2.9.0.post0)\n",
      "Requirement already satisfied: pytz>=2020.1 in c:\\users\\acer\\appdata\\local\\programs\\python\\python312\\lib\\site-packages (from pandas) (2025.2)\n",
      "Requirement already satisfied: tzdata>=2022.7 in c:\\users\\acer\\appdata\\local\\programs\\python\\python312\\lib\\site-packages (from pandas) (2025.2)\n",
      "Requirement already satisfied: six>=1.5 in c:\\users\\acer\\appdata\\roaming\\python\\python312\\site-packages (from python-dateutil>=2.8.2->pandas) (1.17.0)\n",
      "Note: you may need to restart the kernel to use updated packages.\n"
     ]
    },
    {
     "name": "stderr",
     "output_type": "stream",
     "text": [
      "\n",
      "[notice] A new release of pip is available: 24.3.1 -> 25.0.1\n",
      "[notice] To update, run: python.exe -m pip install --upgrade pip\n"
     ]
    }
   ],
   "source": [
    "pip install pandas\n"
   ]
  },
  {
   "cell_type": "code",
   "execution_count": 7,
   "metadata": {},
   "outputs": [],
   "source": [
    "import pandas as pd"
   ]
  },
  {
   "cell_type": "code",
   "execution_count": 39,
   "metadata": {},
   "outputs": [
    {
     "data": {
      "text/html": [
       "<div>\n",
       "<style scoped>\n",
       "    .dataframe tbody tr th:only-of-type {\n",
       "        vertical-align: middle;\n",
       "    }\n",
       "\n",
       "    .dataframe tbody tr th {\n",
       "        vertical-align: top;\n",
       "    }\n",
       "\n",
       "    .dataframe thead th {\n",
       "        text-align: right;\n",
       "    }\n",
       "</style>\n",
       "<table border=\"1\" class=\"dataframe\">\n",
       "  <thead>\n",
       "    <tr style=\"text-align: right;\">\n",
       "      <th></th>\n",
       "      <th>First Name</th>\n",
       "      <th>Age</th>\n",
       "      <th>City</th>\n",
       "    </tr>\n",
       "  </thead>\n",
       "  <tbody>\n",
       "    <tr>\n",
       "      <th>0</th>\n",
       "      <td>Alice</td>\n",
       "      <td>25</td>\n",
       "      <td>New York</td>\n",
       "    </tr>\n",
       "    <tr>\n",
       "      <th>1</th>\n",
       "      <td>Bob</td>\n",
       "      <td>30</td>\n",
       "      <td>San Francisco</td>\n",
       "    </tr>\n",
       "    <tr>\n",
       "      <th>2</th>\n",
       "      <td>Charlie</td>\n",
       "      <td>35</td>\n",
       "      <td>Los Angeles</td>\n",
       "    </tr>\n",
       "    <tr>\n",
       "      <th>3</th>\n",
       "      <td>David</td>\n",
       "      <td>40</td>\n",
       "      <td>Chicago</td>\n",
       "    </tr>\n",
       "  </tbody>\n",
       "</table>\n",
       "</div>"
      ],
      "text/plain": [
       "  First Name  Age           City\n",
       "0      Alice   25       New York\n",
       "1        Bob   30  San Francisco\n",
       "2    Charlie   35    Los Angeles\n",
       "3      David   40        Chicago"
      ]
     },
     "execution_count": 39,
     "metadata": {},
     "output_type": "execute_result"
    }
   ],
   "source": [
    "import numpy as np\n",
    "\n",
    "\n",
    "data = {\n",
    "        'First Name': ['Alice', 'Bob', 'Charlie', 'David'],\n",
    "        'Age': [25, 30, 35, 40],\n",
    "        'City': ['New York', 'San Francisco', 'Los Angeles', 'Chicago']\n",
    "        }\n",
    "\n",
    "\n",
    "df = pd.DataFrame(data)\n",
    "\n",
    "df\n",
    "\n",
    "\n",
    "\n"
   ]
  },
  {
   "cell_type": "code",
   "execution_count": 38,
   "metadata": {},
   "outputs": [
    {
     "data": {
      "text/html": [
       "<div>\n",
       "<style scoped>\n",
       "    .dataframe tbody tr th:only-of-type {\n",
       "        vertical-align: middle;\n",
       "    }\n",
       "\n",
       "    .dataframe tbody tr th {\n",
       "        vertical-align: top;\n",
       "    }\n",
       "\n",
       "    .dataframe thead th {\n",
       "        text-align: right;\n",
       "    }\n",
       "</style>\n",
       "<table border=\"1\" class=\"dataframe\">\n",
       "  <thead>\n",
       "    <tr style=\"text-align: right;\">\n",
       "      <th></th>\n",
       "      <th>First Name</th>\n",
       "      <th>Age</th>\n",
       "      <th>City</th>\n",
       "    </tr>\n",
       "  </thead>\n",
       "  <tbody>\n",
       "    <tr>\n",
       "      <th>0</th>\n",
       "      <td>Alice</td>\n",
       "      <td>25</td>\n",
       "      <td>New York</td>\n",
       "    </tr>\n",
       "    <tr>\n",
       "      <th>1</th>\n",
       "      <td>Bob</td>\n",
       "      <td>30</td>\n",
       "      <td>San Francisco</td>\n",
       "    </tr>\n",
       "    <tr>\n",
       "      <th>2</th>\n",
       "      <td>Charlie</td>\n",
       "      <td>35</td>\n",
       "      <td>Los Angeles</td>\n",
       "    </tr>\n",
       "  </tbody>\n",
       "</table>\n",
       "</div>"
      ],
      "text/plain": [
       "  First Name  Age           City\n",
       "0      Alice   25       New York\n",
       "1        Bob   30  San Francisco\n",
       "2    Charlie   35    Los Angeles"
      ]
     },
     "execution_count": 38,
     "metadata": {},
     "output_type": "execute_result"
    }
   ],
   "source": [
    "# 2. Print the first 3 rows\n",
    "df.head(3)"
   ]
  },
  {
   "cell_type": "code",
   "execution_count": 40,
   "metadata": {},
   "outputs": [
    {
     "name": "stdout",
     "output_type": "stream",
     "text": [
      "  first_name  age           city\n",
      "0      Alice   25       New York\n",
      "1        Bob   30  San Francisco\n",
      "2    Charlie   35    Los Angeles\n",
      "3      David   40        Chicago\n"
     ]
    }
   ],
   "source": [
    "#1\n",
    "df.rename(columns={\n",
    "    'First Name': 'first_name',\n",
    "    'Age':        'age',\n",
    "    'City':       'city'\n",
    "}, inplace=True)\n",
    "print(df)"
   ]
  },
  {
   "cell_type": "code",
   "execution_count": 41,
   "metadata": {},
   "outputs": [
    {
     "name": "stdout",
     "output_type": "stream",
     "text": [
      "\n",
      "Mean age: 32.5\n"
     ]
    }
   ],
   "source": [
    "#3\n",
    "mean_age = df['age'].mean()\n",
    "print('\\nMean age:', mean_age)"
   ]
  },
  {
   "cell_type": "code",
   "execution_count": 42,
   "metadata": {},
   "outputs": [
    {
     "name": "stdout",
     "output_type": "stream",
     "text": [
      "  first_name           city\n",
      "0      Alice       New York\n",
      "1        Bob  San Francisco\n",
      "2    Charlie    Los Angeles\n",
      "3      David        Chicago\n"
     ]
    }
   ],
   "source": [
    "#4\n",
    "print(df[['first_name', 'city']])"
   ]
  },
  {
   "cell_type": "code",
   "execution_count": 43,
   "metadata": {},
   "outputs": [
    {
     "name": "stdout",
     "output_type": "stream",
     "text": [
      "  first_name  age           city  salary\n",
      "0      Alice   25       New York   52732\n",
      "1        Bob   30  San Francisco   93567\n",
      "2    Charlie   35    Los Angeles   92613\n",
      "3      David   40        Chicago   95891\n"
     ]
    }
   ],
   "source": [
    "#5\n",
    "\n",
    "np.random.seed(0) \n",
    "df['salary'] = np.random.randint(50000, 100000, size=len(df))\n",
    "\n",
    "print(df)"
   ]
  },
  {
   "cell_type": "code",
   "execution_count": 44,
   "metadata": {},
   "outputs": [
    {
     "name": "stdout",
     "output_type": "stream",
     "text": [
      "             age        salary\n",
      "count   4.000000      4.000000\n",
      "mean   32.500000  83700.750000\n",
      "std     6.454972  20691.679171\n",
      "min    25.000000  52732.000000\n",
      "25%    28.750000  82642.750000\n",
      "50%    32.500000  93090.000000\n",
      "75%    36.250000  94148.000000\n",
      "max    40.000000  95891.000000\n"
     ]
    }
   ],
   "source": [
    "# 6. Display summary statistics\n",
    "\n",
    "print(df.describe())"
   ]
  },
  {
   "cell_type": "code",
   "execution_count": 17,
   "metadata": {},
   "outputs": [],
   "source": [
    "# Homework 2:\n",
    "\n",
    "# Create a DataFrame named sales_and_expenses with columns 'Month', 'Sales', and 'Expenses', representing monthly sales and expenses data. Use below table.\n",
    "# Month\tSales\tExpenses\n",
    "# Jan\t5000\t3000\n",
    "# Feb\t6000\t3500\n",
    "# Mar\t7500\t4000\n",
    "# Apr\t8000\t4500\n",
    "# Calculate and display the maximum sales and expenses.\n",
    "# Calculate and display the minimum sales and expenses.\n",
    "# Calculate and display the average sales and expenses."
   ]
  },
  {
   "cell_type": "code",
   "execution_count": 50,
   "metadata": {},
   "outputs": [
    {
     "name": "stdout",
     "output_type": "stream",
     "text": [
      "  Month  Sales  Expences\n",
      "0   jan   5000      3000\n",
      "1   feb   6000      3500\n",
      "2   mar   7500      4000\n",
      "3   apr   8000      4500\n"
     ]
    }
   ],
   "source": [
    "data1 = {\n",
    "         'Month': ['jan', 'feb', 'mar', 'apr'],\n",
    "         'Sales': [5000, 6000, 7500, 8000],\n",
    "         'Expences': [3000, 3500, 4000, 4500]\n",
    "}\n",
    "\n",
    "salary = pd.DataFrame(data1)\n",
    "print(salary)"
   ]
  },
  {
   "cell_type": "code",
   "execution_count": 52,
   "metadata": {},
   "outputs": [
    {
     "name": "stdout",
     "output_type": "stream",
     "text": [
      "\n",
      "Maximum Sales: 8000\n",
      "Maximum Expenses: 4500\n"
     ]
    }
   ],
   "source": [
    "max_sales = salary['Sales'].max()\n",
    "max_expenses = salary['Expences'].max()\n",
    "print(f\"\\nMaximum Sales: {max_sales}\")\n",
    "print(f\"Maximum Expenses: {max_expenses}\")"
   ]
  },
  {
   "cell_type": "code",
   "execution_count": 53,
   "metadata": {},
   "outputs": [
    {
     "name": "stdout",
     "output_type": "stream",
     "text": [
      "Min values:\n",
      " Sales       5000\n",
      "Expences    3000\n",
      "dtype: int64\n"
     ]
    }
   ],
   "source": [
    "min_values = salary[['Sales', 'Expences']].min()\n",
    "print(\"Min values:\\n\", min_values )"
   ]
  },
  {
   "cell_type": "code",
   "execution_count": 54,
   "metadata": {},
   "outputs": [
    {
     "name": "stdout",
     "output_type": "stream",
     "text": [
      "Avarage values:\n",
      " Sales       6625.0\n",
      "Expences    3750.0\n",
      "dtype: float64\n"
     ]
    }
   ],
   "source": [
    "avg_values = salary[['Sales', 'Expences']].mean()\n",
    "print(\"Avarage values:\\n\", avg_values )"
   ]
  },
  {
   "cell_type": "code",
   "execution_count": null,
   "metadata": {},
   "outputs": [],
   "source": [
    "# Homework 3:\n",
    "\n",
    "# Create a DataFrame named expenses with columns 'Category', 'January', 'February', 'March', and 'April', representing monthly expenses for different categories. Use below table.\n",
    "# Category\tJanuary\tFebruary\tMarch\tApril\n",
    "# Rent\t1200\t1300\t1400\t1500\n",
    "# Utilities\t200\t220\t240\t250\n",
    "# Groceries\t300\t320\t330\t350\n",
    "# Entertainment\t150\t160\t170\t180\n",
    "# Calculate and display the maximum expense for each category.\n",
    "# Calculate and display the minimum expense for each category.\n",
    "# Calculate and display the average expense for each category.\n",
    "# In this task, use .set_index method to make Category column as index.\n",
    "\n",
    "# Try this code, learn it and use it in the task.\n",
    "\n",
    "# expenses.set_index('Category')"
   ]
  },
  {
   "cell_type": "code",
   "execution_count": 68,
   "metadata": {},
   "outputs": [
    {
     "name": "stdout",
     "output_type": "stream",
     "text": [
      "   Category  Rent  Utilities  Groceries  Entertainment\n",
      "0   January  1200        200        300            150\n",
      "1  February  1300        220        320            160\n",
      "2     March  1400        240        330            170\n",
      "3     April  1500        250        350            180\n"
     ]
    }
   ],
   "source": [
    "data2 = {\n",
    "         'Category': ['January','February',\t'March','April'],\n",
    "         'Rent': [1200,\t1300,\t1400,\t1500],\n",
    "         'Utilities': [200,\t220,\t240,\t250],\n",
    "         'Groceries': [300,\t320,\t330,\t350],\n",
    "         'Entertainment': [150,\t160,\t170,\t180]\n",
    "         \n",
    "}\n",
    "\n",
    "\n",
    "expenses = pd.DataFrame(data2)\n",
    "print(expenses)"
   ]
  },
  {
   "cell_type": "code",
   "execution_count": 69,
   "metadata": {},
   "outputs": [
    {
     "name": "stdout",
     "output_type": "stream",
     "text": [
      "\n",
      "Maximum Expenses from Each Column:\n",
      "  Expense_Category  Maximum_Expense\n",
      "0             Rent             1500\n",
      "1        Utilities              250\n",
      "2        Groceries              350\n",
      "3    Entertainment              180\n"
     ]
    }
   ],
   "source": [
    "\n",
    "maximum_expenses_by_column = expenses[['Rent', 'Utilities', 'Groceries', 'Entertainment']].max(axis=0)\n",
    "\n",
    "\n",
    "max_expenses_df = pd.DataFrame({'Expense_Category': maximum_expenses_by_column.index,\n",
    "                                'Maximum_Expense': maximum_expenses_by_column.values})\n",
    "\n",
    "print(\"\\nMaximum Expenses from Each Column:\")\n",
    "print(max_expenses_df)"
   ]
  },
  {
   "cell_type": "code",
   "execution_count": 71,
   "metadata": {},
   "outputs": [
    {
     "name": "stdout",
     "output_type": "stream",
     "text": [
      "Expenses DataFrame with 'Category' as index:\n",
      "               January  February  March  April\n",
      "Category                                      \n",
      "Rent              1200      1300   1400   1500\n",
      "Utilities          200       220    240    250\n",
      "Groceries          300       320    330    350\n",
      "Entertainment      150       160    170    180\n",
      "\n",
      "--- Calculations ---\n",
      "\n",
      "Maximum expense for each category:\n",
      "Category\n",
      "Rent             1500\n",
      "Utilities         250\n",
      "Groceries         350\n",
      "Entertainment     180\n",
      "dtype: int64\n",
      "\n",
      "Minimum expense for each category:\n",
      "Category\n",
      "Rent             1200\n",
      "Utilities         200\n",
      "Groceries         300\n",
      "Entertainment     150\n",
      "dtype: int64\n",
      "\n",
      "Average expense for each category:\n",
      "Category\n",
      "Rent             1350.0\n",
      "Utilities         227.5\n",
      "Groceries         325.0\n",
      "Entertainment     165.0\n",
      "dtype: float64\n"
     ]
    }
   ],
   "source": [
    "import pandas as pd\n",
    "\n",
    "\n",
    "data = {\n",
    "    'Category': ['Rent', 'Utilities', 'Groceries', 'Entertainment'],\n",
    "    'January': [1200, 200, 300, 150],\n",
    "    'February': [1300, 220, 320, 160],\n",
    "    'March': [1400, 240, 330, 170],\n",
    "    'April': [1500, 250, 350, 180]\n",
    "}\n",
    "\n",
    "expenses = pd.DataFrame(data)\n",
    "\n",
    "\n",
    "expenses = expenses.set_index('Category')\n",
    "\n",
    "print(\"Expenses DataFrame with 'Category' as index:\")\n",
    "print(expenses)\n",
    "\n",
    "print(\"\\n--- Calculations ---\")\n",
    "\n",
    "\n",
    "maximum_expense = expenses.max(axis=1)\n",
    "print(\"\\nMaximum expense for each category:\")\n",
    "print(maximum_expense)\n",
    "\n",
    "\n",
    "minimum_expense = expenses.min(axis=1)\n",
    "print(\"\\nMinimum expense for each category:\")\n",
    "print(minimum_expense)\n",
    "\n",
    "\n",
    "average_expense = expenses.mean(axis=1)\n",
    "print(\"\\nAverage expense for each category:\")\n",
    "print(average_expense)"
   ]
  }
 ],
 "metadata": {
  "kernelspec": {
   "display_name": "Python 3",
   "language": "python",
   "name": "python3"
  },
  "language_info": {
   "codemirror_mode": {
    "name": "ipython",
    "version": 3
   },
   "file_extension": ".py",
   "mimetype": "text/x-python",
   "name": "python",
   "nbconvert_exporter": "python",
   "pygments_lexer": "ipython3",
   "version": "3.12.9"
  }
 },
 "nbformat": 4,
 "nbformat_minor": 2
}
