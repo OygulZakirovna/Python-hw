{
 "cells": [
  {
   "cell_type": "code",
   "execution_count": null,
   "metadata": {},
   "outputs": [],
   "source": [
    "\n",
    "\n",
    "\n",
    "# Exercise 5: Display numbers from a list using a loop\n",
    "# Given:\n",
    "\n",
    "# numbers = [12, 75, 150, 180, 145, 525, 50]\n",
    "# Expected Output:\n",
    "\n",
    "# 75\n",
    "# 150\n",
    "# 145\n",
    "# Exercise 6: Count the total number of digits in a number\n",
    "# Example:\n",
    "\n",
    "# 75869\n",
    "# Output: 5\n",
    "# Exercise 7: Print reverse number pattern\n",
    "# 5 4 3 2 1\n",
    "# 4 3 2 1\n",
    "# 3 2 1\n",
    "# 2 1\n",
    "# 1\n",
    "# Exercise 8: Print list in reverse order using a loop\n",
    "# Given:\n",
    "\n",
    "# list1 = [10, 20, 30, 40, 50]\n",
    "# Expected Output:\n",
    "\n",
    "# 50\n",
    "# 40\n",
    "# 30\n",
    "# 20\n",
    "# 10\n",
    "# Exercise 9: Display numbers from -10 to -1 using a for loop\n",
    "# -10\n",
    "# -9\n",
    "# -8\n",
    "# -7\n",
    "# -6\n",
    "# -5\n",
    "# -4\n",
    "# -3\n",
    "# -2\n",
    "# -1\n",
    "# Exercise 10: Display message “Done” after successful loop execution\n",
    "# Example:\n",
    "\n",
    "# 0\n",
    "# 1\n",
    "# 2\n",
    "# 3\n",
    "# 4\n",
    "# Done!\n",
    "# Exercise 11: Print all prime numbers within a range\n",
    "# Example:\n",
    "\n",
    "# Prime numbers between 25 and 50:\n",
    "# 29\n",
    "# 31\n",
    "# 37\n",
    "# 41\n",
    "# 43\n",
    "# 47\n",
    "# Exercise 12: Display Fibonacci series up to 10 terms\n",
    "# Example:\n",
    "\n",
    "# Fibonacci sequence:\n",
    "# 0  1  1  2  3  5  8  13  21  34\n",
    "# Exercise 13: Find the factorial of a given number\n",
    "# Example:\n",
    "\n",
    "# 5! = 120\n",
    "# 4. Return Uncommon Elements of Lists\n",
    "# Task\n",
    "# Return the elements that are not common between two lists. The order of elements does not matter.\n",
    "\n",
    "# Examples\n",
    "# Input: list1 = [1, 1, 2], list2 = [2, 3, 4]\n",
    "# Output: [1, 1, 3, 4]\n",
    "\n",
    "# Input: list1 = [1, 2, 3], list2 = [4, 5, 6]\n",
    "# Output: [1, 2, 3, 4, 5, 6]\n",
    "\n",
    "# Input: list1 = [1, 1, 2, 3, 4, 2], list2 = [1, 3, 4, 5]\n",
    "# Output: [2, 2, 5]"
   ]
  },
  {
   "cell_type": "code",
   "execution_count": 24,
   "metadata": {},
   "outputs": [
    {
     "name": "stdout",
     "output_type": "stream",
     "text": [
      "abc_abc_abc_deabcd_efabcd_efg\n"
     ]
    }
   ],
   "source": [
    "# 1. Modify String with Underscores\n",
    "# Given a string txt, insert an underscore (_) after every third character. If a character is a vowel or \n",
    "# already has an underscore after it, shift the underscore placement to the next character. No underscore should be added at the end.\n",
    "\n",
    "# Examples\n",
    "# Input: hello Output: hel_lo\n",
    "\n",
    "# Input: assalom Output: ass_alom\n",
    "\n",
    "# Input: abcabcabcdeabcdefabcdefg Output: abc_abc_abcd_abcd_abcdef\n",
    "\n",
    "text = \"abcabcabcdeabcdefabcdefg\"\n",
    "\n",
    "result = \"\"\n",
    "count = 0  \n",
    "for i in range(len(text)):\n",
    "    result += text[i]\n",
    "    count += 1\n",
    "\n",
    "    if count == 3:\n",
    "        if text[i] in \"aeiou\" or (i + 1 < len(text) and text[i + 1] == \"_\"):\n",
    "            count = 0\n",
    "        elif i + 1 < len(text): \n",
    "            result += \"_\"\n",
    "            count = 0\n",
    "\n",
    "print(result)"
   ]
  },
  {
   "cell_type": "code",
   "execution_count": 2,
   "metadata": {},
   "outputs": [
    {
     "name": "stdout",
     "output_type": "stream",
     "text": [
      "0\n",
      "1\n",
      "4\n",
      "9\n",
      "16\n",
      "25\n"
     ]
    }
   ],
   "source": [
    "# 2. Integer Squares Exercise\n",
    "# Task\n",
    "# The provided code stub reads an integer, n, from STDIN. For all non-negative integers i where 0 <= i < n, print i^2.\n",
    "\n",
    "# Example Input\n",
    "# 5\n",
    "# Example Output\n",
    "# 0\n",
    "# 1\n",
    "# 4\n",
    "# 9\n",
    "# 16\n",
    "# Input Format\n",
    "# The first and only line contains the integer, n.\n",
    "\n",
    "# Constraints\n",
    "# 1 <= n <= 20\n",
    "# Output Format\n",
    "# Print n lines, one corresponding to each i^2 where 0 <= i < n.\n",
    "\n",
    "\n",
    "n = int(input(\"Enter a number: \"))\n",
    "\n",
    "for i in range(n):\n",
    "    print(i ** 2)"
   ]
  },
  {
   "cell_type": "code",
   "execution_count": 9,
   "metadata": {},
   "outputs": [
    {
     "name": "stdout",
     "output_type": "stream",
     "text": [
      "1\n",
      "2\n",
      "3\n",
      "4\n",
      "5\n",
      "6\n",
      "7\n",
      "8\n",
      "9\n",
      "10\n"
     ]
    }
   ],
   "source": [
    "# 3. Loop-Based Exercises\n",
    "# Exercise 1: Print first 10 natural numbers using a while loop\n",
    "\n",
    "i = 1\n",
    "while i <= 10:\n",
    "    print(i)\n",
    "    i +=1"
   ]
  },
  {
   "cell_type": "code",
   "execution_count": 10,
   "metadata": {},
   "outputs": [
    {
     "name": "stdout",
     "output_type": "stream",
     "text": [
      "1 \n",
      "1 2 \n",
      "1 2 3 \n",
      "1 2 3 4 \n",
      "1 2 3 4 5 \n"
     ]
    }
   ],
   "source": [
    "\n",
    "# Exercise 2: Print the following pattern\n",
    "# 1\n",
    "# 1 2\n",
    "# 1 2 3\n",
    "# 1 2 3 4\n",
    "# 1 2 3 4 5\n",
    "rows = 5\n",
    "\n",
    "for i in range(1, rows + 1):  \n",
    "    for j in range(1, i + 1):  \n",
    "        print(j, end=\" \")  \n",
    "    print() "
   ]
  },
  {
   "cell_type": "code",
   "execution_count": 12,
   "metadata": {},
   "outputs": [
    {
     "name": "stdout",
     "output_type": "stream",
     "text": [
      "Sum is: 45\n"
     ]
    }
   ],
   "source": [
    "# exercise 3\n",
    "n = int(input(\"Enter number: \"))\n",
    "sum = 0\n",
    "i = 1\n",
    "\n",
    "while i <= n:\n",
    "    sum += i\n",
    "    i += 1\n",
    "\n",
    "print(\"Sum is:\", sum)\n"
   ]
  },
  {
   "cell_type": "code",
   "execution_count": 13,
   "metadata": {},
   "outputs": [
    {
     "name": "stdout",
     "output_type": "stream",
     "text": [
      "10\n",
      "20\n",
      "30\n",
      "40\n",
      "50\n",
      "60\n",
      "70\n",
      "80\n",
      "90\n",
      "100\n"
     ]
    }
   ],
   "source": [
    "# Exercise 4: Print multiplication table of a given number\n",
    "# Example:\n",
    "\n",
    "# 2\n",
    "# 4\n",
    "# 6\n",
    "# 8\n",
    "# 10\n",
    "# 12\n",
    "# 14\n",
    "# 16\n",
    "# 18\n",
    "# 20\n",
    "\n",
    "num = int(input(\"Enter a number: \"))\n",
    "i = 1\n",
    "\n",
    "while i <= 10:\n",
    "    print(num * i)\n",
    "    i += 1\n"
   ]
  },
  {
   "cell_type": "code",
   "execution_count": 14,
   "metadata": {},
   "outputs": [
    {
     "name": "stdout",
     "output_type": "stream",
     "text": [
      "75\n",
      "150\n",
      "145\n"
     ]
    }
   ],
   "source": [
    "\n",
    "# Exercise 5: Display numbers from a list using a loop\n",
    "# Given:\n",
    "\n",
    "# numbers = [12, 75, 150, 180, 145, 525, 50]\n",
    "# Expected Output:\n",
    "\n",
    "# 75\n",
    "# 150\n",
    "# 145\n",
    "\n",
    "numbers = [12, 75, 150, 180, 145, 525, 50]\n",
    "\n",
    "for num in numbers:\n",
    "    if 70 <= num <= 150:\n",
    "        print(num)\n"
   ]
  },
  {
   "cell_type": "code",
   "execution_count": 17,
   "metadata": {},
   "outputs": [
    {
     "name": "stdout",
     "output_type": "stream",
     "text": [
      "Total digits: 5\n"
     ]
    }
   ],
   "source": [
    "# # exercise 6\n",
    "# num = 75869\n",
    "# count = 0\n",
    "\n",
    "while num != 0:\n",
    "     num //= 10  \n",
    "     count += 1\n",
    "\n",
    "print(\"Total digits:\", count)\n"
   ]
  },
  {
   "cell_type": "code",
   "execution_count": 18,
   "metadata": {},
   "outputs": [
    {
     "name": "stdout",
     "output_type": "stream",
     "text": [
      "5 4 3 2 1 \n",
      "4 3 2 1 \n",
      "3 2 1 \n",
      "2 1 \n",
      "1 \n"
     ]
    }
   ],
   "source": [
    "# ex7\n",
    "for i in range(5, 0, -1):\n",
    "    for j in range(i, 0, -1):\n",
    "        print(j, end=\" \")\n",
    "    print()"
   ]
  },
  {
   "cell_type": "code",
   "execution_count": 19,
   "metadata": {},
   "outputs": [
    {
     "name": "stdout",
     "output_type": "stream",
     "text": [
      "50\n",
      "40\n",
      "30\n",
      "20\n",
      "10\n"
     ]
    }
   ],
   "source": [
    "# ex8\n",
    "list1 = [10, 20, 30, 40, 50]\n",
    "\n",
    "for i in range(len(list1) - 1, -1, -1):\n",
    "    print(list1[i])\n"
   ]
  },
  {
   "cell_type": "code",
   "execution_count": 20,
   "metadata": {},
   "outputs": [
    {
     "name": "stdout",
     "output_type": "stream",
     "text": [
      "-10\n",
      "-9\n",
      "-8\n",
      "-7\n",
      "-6\n",
      "-5\n",
      "-4\n",
      "-3\n",
      "-2\n",
      "-1\n"
     ]
    }
   ],
   "source": [
    "# ex9\n",
    "for i in range(-10, 0):\n",
    "    print(i)"
   ]
  },
  {
   "cell_type": "code",
   "execution_count": 21,
   "metadata": {},
   "outputs": [
    {
     "name": "stdout",
     "output_type": "stream",
     "text": [
      "0\n",
      "1\n",
      "2\n",
      "3\n",
      "4\n",
      "Done!\n"
     ]
    }
   ],
   "source": [
    "# ex 10\n",
    "for i in range(5):\n",
    "    print(i)\n",
    "print(\"Done!\")\n"
   ]
  },
  {
   "cell_type": "code",
   "execution_count": 22,
   "metadata": {},
   "outputs": [
    {
     "name": "stdout",
     "output_type": "stream",
     "text": [
      "29\n",
      "31\n",
      "37\n",
      "41\n",
      "43\n",
      "47\n"
     ]
    }
   ],
   "source": [
    "# ex 11\n",
    "\n",
    "for num in range(25, 51):\n",
    "    is_prime = True\n",
    "    if num > 1:\n",
    "        for i in range(2, int(num ** 0.5) + 1):\n",
    "            if num % i == 0:\n",
    "                is_prime = False\n",
    "                break\n",
    "        if is_prime:\n",
    "            print(num)"
   ]
  },
  {
   "cell_type": "code",
   "execution_count": 23,
   "metadata": {},
   "outputs": [
    {
     "name": "stdout",
     "output_type": "stream",
     "text": [
      "Fibonacci sequence:\n",
      "0 1 1 2 3 5 8 13 21 34 "
     ]
    }
   ],
   "source": [
    "# ex 12\n",
    "n_terms = 10\n",
    "a, b = 0, 1\n",
    "\n",
    "print(\"Fibonacci sequence:\")\n",
    "for _ in range(n_terms):\n",
    "    print(a, end=\" \")\n",
    "    a, b = b, a + b\n"
   ]
  },
  {
   "cell_type": "code",
   "execution_count": 25,
   "metadata": {},
   "outputs": [
    {
     "name": "stdout",
     "output_type": "stream",
     "text": [
      "6! = 720\n"
     ]
    }
   ],
   "source": [
    "# ex13\n",
    "num = 6\n",
    "factorial = 1\n",
    "\n",
    "for i in range(1, num + 1):\n",
    "    factorial *= i\n",
    "\n",
    "print(f\"{num}! = {factorial}\")"
   ]
  },
  {
   "cell_type": "code",
   "execution_count": 28,
   "metadata": {},
   "outputs": [
    {
     "name": "stdout",
     "output_type": "stream",
     "text": [
      "[2, 2, 5]\n"
     ]
    }
   ],
   "source": [
    "# 4\n",
    "list1 = [1, 1, 2, 3, 4, 2]\n",
    "list2 = [1, 3, 4, 5]\n",
    "\n",
    "uncommon = []\n",
    "\n",
    "for item in list1:\n",
    "    if item not in list2:\n",
    "        uncommon.append(item)\n",
    "\n",
    "for item in list2:\n",
    "    if item not in list1:\n",
    "        uncommon.append(item)\n",
    "\n",
    "print(uncommon)\n"
   ]
  }
 ],
 "metadata": {
  "kernelspec": {
   "display_name": "Python 3",
   "language": "python",
   "name": "python3"
  },
  "language_info": {
   "codemirror_mode": {
    "name": "ipython",
    "version": 3
   },
   "file_extension": ".py",
   "mimetype": "text/x-python",
   "name": "python",
   "nbconvert_exporter": "python",
   "pygments_lexer": "ipython3",
   "version": "3.12.8"
  }
 },
 "nbformat": 4,
 "nbformat_minor": 2
}
