{
 "cells": [
  {
   "cell_type": "code",
   "execution_count": null,
   "metadata": {},
   "outputs": [],
   "source": [
    "# Homework Exercises\n",
    "# 1. Age Calculator\n",
    "# Write a Python program to ask for a user's name and year of birth, then calculate and display their age.\n",
    "\n",
    "# 2. Extract Car Names\n",
    "# Extract car names from the following text:"
   ]
  },
  {
   "cell_type": "code",
   "execution_count": 3,
   "metadata": {},
   "outputs": [
    {
     "name": "stdout",
     "output_type": "stream",
     "text": [
      "Hello Oygul!\n",
      "Your age is: 23\n"
     ]
    }
   ],
   "source": [
    "#1\n",
    "\n",
    "name = input(\"Please enter your name: \")\n",
    "birth_year_str = input(\"Please enter your year of birth: \")\n",
    "birth_year = int(birth_year_str) \n",
    "current_year = 2025\n",
    "\n",
    "age = current_year - birth_year\n",
    "\n",
    "print(\"Hello \" + name + \"!\") \n",
    "print(\"Your age is: \" + str(age))"
   ]
  },
  {
   "cell_type": "code",
   "execution_count": 5,
   "metadata": {},
   "outputs": [
    {
     "name": "stdout",
     "output_type": "stream",
     "text": [
      "a, you are 25 years old. \n"
     ]
    }
   ],
   "source": [
    "#second method\n",
    "\n",
    "import datetime\n",
    "name = input('Please enter your name: ')\n",
    "year = int(input(\"Please enter your year of birth: \"))\n",
    "now = datetime.datetime.now().year\n",
    "print(f\"{name}, you are {now - year } years old. \")\n"
   ]
  },
  {
   "cell_type": "code",
   "execution_count": 62,
   "metadata": {},
   "outputs": [
    {
     "ename": "TypeError",
     "evalue": "'str' object is not callable",
     "output_type": "error",
     "traceback": [
      "\u001b[1;31m---------------------------------------------------------------------------\u001b[0m",
      "\u001b[1;31mTypeError\u001b[0m                                 Traceback (most recent call last)",
      "Cell \u001b[1;32mIn[62], line 5\u001b[0m\n\u001b[0;32m      1\u001b[0m \u001b[38;5;66;03m# third method\u001b[39;00m\n\u001b[0;32m      3\u001b[0m \u001b[38;5;28;01mimport\u001b[39;00m\u001b[38;5;250m \u001b[39m\u001b[38;5;21;01mdatetime\u001b[39;00m\n\u001b[1;32m----> 5\u001b[0m name \u001b[38;5;241m=\u001b[39m \u001b[38;5;28;43minput\u001b[39;49m\u001b[43m(\u001b[49m\u001b[38;5;124;43m'\u001b[39;49m\u001b[38;5;124;43mPlease enter your name: \u001b[39;49m\u001b[38;5;124;43m'\u001b[39;49m\u001b[43m)\u001b[49m\n\u001b[0;32m      7\u001b[0m \u001b[38;5;28;01mwhile\u001b[39;00m \u001b[38;5;28;01mTrue\u001b[39;00m:\n\u001b[0;32m      8\u001b[0m     birth_date_str \u001b[38;5;241m=\u001b[39m \u001b[38;5;28minput\u001b[39m(\u001b[38;5;124m\"\u001b[39m\u001b[38;5;124mPlease enter your date of birth (DD.MM.YYYY): \u001b[39m\u001b[38;5;124m\"\u001b[39m)\n",
      "\u001b[1;31mTypeError\u001b[0m: 'str' object is not callable"
     ]
    }
   ],
   "source": [
    "# third method\n",
    "\n",
    "import datetime\n",
    "\n",
    "name = input('Please enter your name: ')\n",
    "\n",
    "while True:\n",
    "    birth_date_str = input(\"Please enter your date of birth (DD.MM.YYYY): \")\n",
    "    try:\n",
    "        birth_date = datetime.datetime.strptime(birth_date_str, \"%d.%m.%Y\")\n",
    "        birth_year = birth_date.year\n",
    "        now = datetime.datetime.now().year\n",
    "        age = now - birth_year\n",
    "        print(f\"{name}, you are {age} years old. \")\n",
    "        break \n",
    "    except ValueError:\n",
    "        print(\"Invalid date format. Please use DD.MM.YYYY (e.g., 17.08.2002).\")"
   ]
  },
  {
   "cell_type": "code",
   "execution_count": 11,
   "metadata": {},
   "outputs": [
    {
     "data": {
      "text/plain": [
       "'Malibu'"
      ]
     },
     "execution_count": 11,
     "metadata": {},
     "output_type": "execute_result"
    }
   ],
   "source": [
    "# 2. Extract Car Names\n",
    "# Extract car names from the following text:\n",
    "\n",
    "txt = 'LMaasleitbtui'\n",
    "\n",
    "txt[0::2]\n",
    "txt[1::2]"
   ]
  },
  {
   "cell_type": "code",
   "execution_count": 38,
   "metadata": {},
   "outputs": [
    {
     "data": {
      "text/plain": [
       "'Damas'"
      ]
     },
     "execution_count": 38,
     "metadata": {},
     "output_type": "execute_result"
    }
   ],
   "source": [
    "#  3. Extract Car Names\n",
    "#  Extract car names from the following text:\n",
    "\n",
    "txt = 'MsaatmiazD'\n",
    "\n",
    "txt[0::2]\n",
    "txt[-1::-2]\n",
    "\n"
   ]
  },
  {
   "cell_type": "code",
   "execution_count": 47,
   "metadata": {},
   "outputs": [
    {
     "data": {
      "text/plain": [
       "'London'"
      ]
     },
     "execution_count": 47,
     "metadata": {},
     "output_type": "execute_result"
    }
   ],
   "source": [
    "# 4. Extract Residence Area\n",
    "# Extract the residence area from the following text:\n",
    "\n",
    "txt = \"I'am John. I am from London\"\n",
    "start = txt.find('from')\n",
    "residence = txt[start + 5:]\n",
    "residence"
   ]
  },
  {
   "cell_type": "code",
   "execution_count": 54,
   "metadata": {},
   "outputs": [
    {
     "name": "stdout",
     "output_type": "stream",
     "text": [
      "Output: yadot lufituaeb si noom\n"
     ]
    }
   ],
   "source": [
    "# 5. Reverse String\n",
    "# Write a Python program that takes a user input string and prints it in reverse order.\n",
    "\n",
    "user_input = input(\"String: \")\n",
    "\n",
    "reversed_string = user_input[::-1]\n",
    "\n",
    "reversed_string = user_input[::-1]\n",
    "print(\"Output:\", reversed_string)\n"
   ]
  },
  {
   "cell_type": "code",
   "execution_count": 3,
   "metadata": {},
   "outputs": [
    {
     "name": "stdout",
     "output_type": "stream",
     "text": [
      "Number of vowels: 5\n"
     ]
    }
   ],
   "source": [
    "# 6. Count Vowels\n",
    "# Write a Python program that counts the number of vowels in a given string.\n",
    "\n",
    "\n",
    "user_input = input(\"Enter your string: \")\n",
    "\n",
    "vowels = \"aeiouAEIOU\"\n",
    "\n",
    "vowel_count = 0\n",
    "\n",
    "for letter in user_input:\n",
    "    if letter in vowels:\n",
    "        vowel_count += 1  \n",
    "print(\"Number of vowels:\", vowel_count)"
   ]
  },
  {
   "cell_type": "code",
   "execution_count": 8,
   "metadata": {},
   "outputs": [
    {
     "name": "stdout",
     "output_type": "stream",
     "text": [
      "Numer of constants: 16\n"
     ]
    }
   ],
   "source": [
    "user_input = input(\"Enter your sentence: \")\n",
    "\n",
    "constants = 'bcdfghjklmnpqrstyvwxyz'\n",
    "\n",
    "constant_count = 0\n",
    "\n",
    "for letter in user_input:\n",
    "    if letter in constants:\n",
    "        constant_count += 1\n",
    "print(\"Numer of constants:\", constant_count)"
   ]
  },
  {
   "cell_type": "code",
   "execution_count": null,
   "metadata": {},
   "outputs": [
    {
     "name": "stdout",
     "output_type": "stream",
     "text": [
      "The maximum value is: 99.0\n"
     ]
    }
   ],
   "source": [
    "# 7. Find Maximum Value\n",
    "# Write a Python program that takes a list of numbers as input and prints the maximum value.\n",
    "\n",
    "user_input = input(\"Enter numbers separated by spaces: \")\n",
    "\n",
    "number_list = [float(num) for num in user_input.split()]\n",
    "\n",
    "max_value = max(number_list)\n",
    "print(\"The maximum value is:\", max_value)\n",
    "\n"
   ]
  },
  {
   "cell_type": "code",
   "execution_count": 21,
   "metadata": {},
   "outputs": [
    {
     "name": "stdout",
     "output_type": "stream",
     "text": [
      "It isn't a Palindrome\n"
     ]
    }
   ],
   "source": [
    "# 8. Check Palindrome\n",
    "# Write a Python program that checks if a given word is a palindrome (reads the same forward and backward).\n",
    "word = input(\"Enter a word: \")\n",
    "\n",
    "reversed_word = word[::-1]\n",
    "\n",
    "if word == reversed_word:\n",
    "    print(\"It's a Palindrome\")\n",
    "else:\n",
    "    print(\"It isn't a Palindrome\")"
   ]
  },
  {
   "cell_type": "code",
   "execution_count": 2,
   "metadata": {},
   "outputs": [
    {
     "name": "stdout",
     "output_type": "stream",
     "text": [
      "domain: gmail.com\n"
     ]
    }
   ],
   "source": [
    "# 9. Extract Email Domain\n",
    "# Write a Python program that extracts and prints the domain from an email address provided by the user.\n",
    "\n",
    "email = input(\"Enter your email adress: \")\n",
    "\n",
    "domain = email.split('@')[1]\n",
    "\n",
    "print(\"domain:\", domain)"
   ]
  },
  {
   "cell_type": "code",
   "execution_count": 6,
   "metadata": {},
   "outputs": [
    {
     "name": "stdout",
     "output_type": "stream",
     "text": [
      "New_Password: <dJtC>U}f?hV-FsUJ*o-%/#\\*_w;2&\n"
     ]
    }
   ],
   "source": [
    "# 10. Generate Random Password\n",
    "# Write a Python program to generate a random password containing letters, digits, and special characters.\n",
    "\n",
    "import random\n",
    "import string\n",
    "\n",
    "# lowercase letters(string.ascii_lowercase) \n",
    "# uppercase letters(string.ascii_uppercase)\n",
    "# digits(string.digits)\n",
    "# special characters(string.punctuations) \n",
    "\n",
    "all_characters =  string.ascii_letters + string.digits + string.punctuation\n",
    "\n",
    "password_length = int(input(\"enter the password length: \"))\n",
    "\n",
    "password = ''.join(random.choice(all_characters) for _ in range(password_length))\n",
    "print(\"New_Password:\", password)\n",
    "\n"
   ]
  }
 ],
 "metadata": {
  "kernelspec": {
   "display_name": "Python 3",
   "language": "python",
   "name": "python3"
  },
  "language_info": {
   "codemirror_mode": {
    "name": "ipython",
    "version": 3
   },
   "file_extension": ".py",
   "mimetype": "text/x-python",
   "name": "python",
   "nbconvert_exporter": "python",
   "pygments_lexer": "ipython3",
   "version": "3.12.8"
  }
 },
 "nbformat": 4,
 "nbformat_minor": 2
}
