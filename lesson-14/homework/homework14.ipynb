{
 "cells": [
  {
   "cell_type": "code",
   "execution_count": null,
   "metadata": {},
   "outputs": [],
   "source": [
    "# Homework\n",
    "# 1.Task: JSON Parsing\n",
    "# write a Python script that reads the students.jon \n",
    "# JSON file and prints details of each student.\n",
    "# 2.Task: Weather API\n",
    "# Use this url : https://openweathermap.org/\n",
    "# Use the requests library to fetch weather data \n",
    "# for a specific city(ex. your hometown: Tashkent) and\n",
    "#  print relevant information (temperature, humidity, etc.).\n",
    "# 3.Task: JSON Modification\n",
    "# Write a program that allows users to add new books, \n",
    "# update existing book information, and delete books \n",
    "# from the books.json JSON file.\n",
    "# 4.Task: Movie Recommendation System\n",
    "# Use this url http://www.omdbapi.com/ to fetch information about movies.\n",
    "# Create a program that asks users for a movie genre and \n",
    "# recommends a random movie from that genre."
   ]
  },
  {
   "cell_type": "code",
   "execution_count": 5,
   "metadata": {},
   "outputs": [],
   "source": [
    "# 1\n",
    "import json\n",
    "\n",
    "# JSON ma'lumotni to'g'rilab yozamiz (oxirgi vergullarni olib tashlash kerak!)\n",
    "json_data = {\n",
    "    \"Students\": [\n",
    "        {\n",
    "            \"id\": 1,\n",
    "            \"name\": \"Moon\",\n",
    "            \"age\": 22\n",
    "        },\n",
    "        {\n",
    "            \"id\": 2,\n",
    "            \"name\": \"Flower\",\n",
    "            \"age\": 23\n",
    "        }\n",
    "    ]\n",
    "}\n",
    "\n",
    "# JSON faylga yozish\n",
    "with open(\"students.json\", \"w\") as f:\n",
    "    json.dump(json_data, f, indent=4)\n"
   ]
  },
  {
   "cell_type": "code",
   "execution_count": 6,
   "metadata": {},
   "outputs": [
    {
     "name": "stdout",
     "output_type": "stream",
     "text": [
      "ID: 1, Name: Moon, Age: 22\n",
      "ID: 2, Name: Flower, Age: 23\n"
     ]
    }
   ],
   "source": [
    "with open(\"students.json\") as f:\n",
    "    data = json.load(f)\n",
    "\n",
    "for student in data[\"Students\"]:\n",
    "    print(f\"ID: {student['id']}, Name: {student['name']}, Age: {student['age']}\")\n"
   ]
  },
  {
   "cell_type": "code",
   "execution_count": 13,
   "metadata": {},
   "outputs": [
    {
     "name": "stdout",
     "output_type": "stream",
     "text": [
      "Shahar: Tashkent\n",
      "Harorat: 28.2°C\n",
      "Namlik: 21%\n",
      "Ta'rif: clear sky\n"
     ]
    }
   ],
   "source": [
    "# 2\n",
    "import requests\n",
    "\n",
    "api_key = \"b6273cd8da24809b51dcd82657565a46\"\n",
    "\n",
    "city = \"Tashkent\"\n",
    "url = f\"http://api.openweathermap.org/data/2.5/weather?q={city}&appid={api_key}&units=metric\"\n",
    "response = requests.get(url)\n",
    "\n",
    "data = response.json()\n",
    "\n",
    "if response.status_code == 200:\n",
    "    temperature = data[\"main\"][\"temp\"]\n",
    "    humidity = data[\"main\"][\"humidity\"]\n",
    "    description = data[\"weather\"][0][\"description\"]\n",
    "\n",
    "    print(f\"Shahar: {city}\")\n",
    "    print(f\"Harorat: {temperature}°C\")\n",
    "    print(f\"Namlik: {humidity}%\")\n",
    "    print(f\"Ta'rif: {description}\")\n",
    "else:\n",
    "    print(\"Ma'lumotni olishda xatolik yuz berdi.\")"
   ]
  },
  {
   "cell_type": "code",
   "execution_count": 19,
   "metadata": {},
   "outputs": [],
   "source": [
    "# 3\n",
    "\n",
    "books = {\n",
    "    \"books\":[\n",
    "        {\n",
    "            \"id\":1,\n",
    "            \"title\":\"Mindset\",\n",
    "            \"author\":\"Carol Dweck\"\n",
    "        },\n",
    "        {\n",
    "            \"id\":1,\n",
    "            \"title\":\"Oq Kema\",\n",
    "            \"author\":\"Chingiz Aytmatov\"\n",
    "\n",
    "        }\n",
    "    ]\n",
    "}\n",
    "\n",
    "with open(\"books.json\", \"w\") as f:\n",
    "    json.dump(books, f, indent=4)"
   ]
  },
  {
   "cell_type": "code",
   "execution_count": 24,
   "metadata": {},
   "outputs": [
    {
     "name": "stdout",
     "output_type": "stream",
     "text": [
      "Kitob muvaffaqiyatli qo‘shildi.\n",
      "Kitob topilmadi.\n",
      " Kitob topilmadi.\n"
     ]
    }
   ],
   "source": [
    "import json\n",
    "\n",
    "\n",
    "file_name = \"books.json\"\n",
    "\n",
    "def load_books():\n",
    "    with open(file_name, \"r\") as file:\n",
    "        return json.load(file)\n",
    "\n",
    "def save_books(data):\n",
    "    with open(file_name, \"w\") as file:\n",
    "        json.dump(data, file, indent=4)\n",
    "\n",
    "\n",
    "def add_book(new_id, title, author):\n",
    "    data = load_books()\n",
    "    data[\"books\"].append({\"id\": new_id, \"title\": title, \"author\": author})\n",
    "    save_books(data)\n",
    "    print(\"Kitob muvaffaqiyatli qo‘shildi.\")\n",
    "\n",
    "\n",
    "def update_book(book_id, new_title, new_author):\n",
    "    data = load_books()\n",
    "    for book in data[\"books\"]:\n",
    "        if book[\"id\"] == book_id:\n",
    "            book[\"title\"] = new_title\n",
    "            book[\"author\"] = new_author\n",
    "            save_books(data)\n",
    "            print(\"Kitob yangilandi.\")\n",
    "            return\n",
    "    print(\"Kitob topilmadi.\")\n",
    "\n",
    "\n",
    "def delete_book(book_id):\n",
    "    data = load_books()\n",
    "    updated_books = [book for book in data[\"books\"] if book[\"id\"] != book_id]\n",
    "    if len(updated_books) < len(data[\"books\"]):\n",
    "        data[\"books\"] = updated_books\n",
    "        save_books(data)\n",
    "        print(\" Kitob o‘chirildi.\")\n",
    "    else:\n",
    "        print(\" Kitob topilmadi.\")\n",
    "\n",
    "\n",
    "add_book(3, \"New Book\", \"New Author\")\n",
    "update_book(2, \"Nineteen Eighty-Four\", \"George Orwell\")\n",
    "delete_book(1)\n"
   ]
  },
  {
   "cell_type": "code",
   "execution_count": 28,
   "metadata": {},
   "outputs": [
    {
     "name": "stdout",
     "output_type": "stream",
     "text": [
      "Ma'lumotlarni olishda xatolik yuz berdi.\n"
     ]
    }
   ],
   "source": [
    "# 4\n",
    "import requests\n",
    "import random\n",
    "\n",
    "api_key = \"5d4e4158\"\n",
    "\n",
    "\n",
    "genre = input(\"Qaysi janrdagi filmni xohlaysiz? (masalan: Action, Drama, Comedy): \")\n",
    "\n",
    "random_letter = random.choice(\"abcdefghijklmnopqrstuvwxyz\")\n",
    "url = f\"http://www.omdbapi.com/?apikey={api_key}&s={random_letter}&type=movie\"\n",
    "\n",
    "response = requests.get(url)\n",
    "data = response.json()\n",
    "\n",
    "if \"Search\" in data:\n",
    "    movies = data[\"Search\"]\n",
    "    \n",
    "    recommendations = []\n",
    "    for movie in movies:\n",
    "        movie_id = movie[\"imdbID\"]\n",
    "        details_url = f\"http://www.omdbapi.com/?apikey={api_key}&i={movie_id}\"\n",
    "        details_response = requests.get(details_url)\n",
    "        details_data = details_response.json()\n",
    "        \n",
    "        if genre.lower() in details_data.get(\"Genre\", \"\").lower():\n",
    "            recommendations.append(details_data)\n",
    "\n",
    "    if recommendations:\n",
    "        selected_movie = random.choice(recommendations)\n",
    "        print(\"\\n🎬 Siz uchun tavsiya etilgan film:\")\n",
    "        print(\"Sarlavha:\", selected_movie[\"Title\"])\n",
    "        print(\"Yili:\", selected_movie[\"Year\"])\n",
    "        print(\"Janr:\", selected_movie[\"Genre\"])\n",
    "        print(\"Rejissor:\", selected_movie[\"Director\"])\n",
    "        print(\"IMDB Reyting:\", selected_movie[\"imdbRating\"])\n",
    "    else:\n",
    "        print(\"Kechirasiz, bu janrga mos film topilmadi.\")\n",
    "else:\n",
    "    print(\"Ma'lumotlarni olishda xatolik yuz berdi.\")\n",
    "\n"
   ]
  },
  {
   "cell_type": "code",
   "execution_count": null,
   "metadata": {},
   "outputs": [],
   "source": []
  },
  {
   "cell_type": "code",
   "execution_count": null,
   "metadata": {},
   "outputs": [],
   "source": []
  },
  {
   "cell_type": "code",
   "execution_count": null,
   "metadata": {},
   "outputs": [],
   "source": []
  },
  {
   "cell_type": "code",
   "execution_count": null,
   "metadata": {},
   "outputs": [],
   "source": []
  },
  {
   "cell_type": "code",
   "execution_count": null,
   "metadata": {},
   "outputs": [],
   "source": []
  }
 ],
 "metadata": {
  "kernelspec": {
   "display_name": "Python 3",
   "language": "python",
   "name": "python3"
  },
  "language_info": {
   "codemirror_mode": {
    "name": "ipython",
    "version": 3
   },
   "file_extension": ".py",
   "mimetype": "text/x-python",
   "name": "python",
   "nbconvert_exporter": "python",
   "pygments_lexer": "ipython3",
   "version": "3.12.9"
  }
 },
 "nbformat": 4,
 "nbformat_minor": 2
}
