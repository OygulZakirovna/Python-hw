{
 "cells": [
  {
   "cell_type": "code",
   "execution_count": 1,
   "metadata": {},
   "outputs": [
    {
     "name": "stdout",
     "output_type": "stream",
     "text": [
      "Error: Cannot divide by zero.\n"
     ]
    }
   ],
   "source": [
    "# 1. Write a Python program to handle a ZeroDivisionError exception when dividing a number by zero.\n",
    "try:\n",
    "    a = int(input(\"Enter a number: \"))\n",
    "    result = a / 0\n",
    "except ZeroDivisionError:\n",
    "    print(\"Error: Cannot divide by zero.\")"
   ]
  },
  {
   "cell_type": "code",
   "execution_count": 4,
   "metadata": {},
   "outputs": [],
   "source": [
    "# 2. Write a Python program that prompts the user to input an integer and raises a ValueError exception if the input is not a valid integer.\n",
    "\n",
    "try:\n",
    "    num = int(input(\"Enter an integer: \"))\n",
    "except ValueError:\n",
    "    print(\"Error: That is not a valid integer.\")"
   ]
  },
  {
   "cell_type": "code",
   "execution_count": null,
   "metadata": {},
   "outputs": [],
   "source": [
    "# 3.Write a Python program that opens a file and handles a FileNotFoundError exception if the file does not exist.\n",
    "\n",
    "try:\n",
    "    with open('non_existing_file.txt', 'r') as file:\n",
    "        content = file.read()\n",
    "except FileNotFoundError:\n",
    "    print(\"Error: File not found.\")"
   ]
  },
  {
   "cell_type": "code",
   "execution_count": 6,
   "metadata": {},
   "outputs": [
    {
     "name": "stdout",
     "output_type": "stream",
     "text": [
      "Result: 35.0\n"
     ]
    }
   ],
   "source": [
    "# 4.  TypeError\n",
    "\n",
    "try:\n",
    "    a = input(\"Enter first number: \")\n",
    "    b = input(\"Enter second number: \")\n",
    "    if not (a.replace('.', '', 1).isdigit() and b.replace('.', '', 1).isdigit()):\n",
    "        raise TypeError(\"Inputs must be numbers.\")\n",
    "    result = float(a) + float(b)\n",
    "    print(\"Result:\", result)\n",
    "except TypeError as te:\n",
    "    print(\"Error:\", te)"
   ]
  },
  {
   "cell_type": "code",
   "execution_count": 7,
   "metadata": {},
   "outputs": [
    {
     "ename": "FileNotFoundError",
     "evalue": "[Errno 2] No such file or directory: '/root/protected_file.txt'",
     "output_type": "error",
     "traceback": [
      "\u001b[1;31m---------------------------------------------------------------------------\u001b[0m",
      "\u001b[1;31mFileNotFoundError\u001b[0m                         Traceback (most recent call last)",
      "Cell \u001b[1;32mIn[7], line 3\u001b[0m\n\u001b[0;32m      1\u001b[0m \u001b[38;5;66;03m# 5 Write a Python program that opens a file and handles a PermissionError exception if there is a permission issue.\u001b[39;00m\n\u001b[0;32m      2\u001b[0m \u001b[38;5;28;01mtry\u001b[39;00m:\n\u001b[1;32m----> 3\u001b[0m     \u001b[38;5;28;01mwith\u001b[39;00m \u001b[38;5;28;43mopen\u001b[39;49m\u001b[43m(\u001b[49m\u001b[38;5;124;43m'\u001b[39;49m\u001b[38;5;124;43m/root/protected_file.txt\u001b[39;49m\u001b[38;5;124;43m'\u001b[39;49m\u001b[43m,\u001b[49m\u001b[43m \u001b[49m\u001b[38;5;124;43m'\u001b[39;49m\u001b[38;5;124;43mr\u001b[39;49m\u001b[38;5;124;43m'\u001b[39;49m\u001b[43m)\u001b[49m \u001b[38;5;28;01mas\u001b[39;00m file:\n\u001b[0;32m      4\u001b[0m         content \u001b[38;5;241m=\u001b[39m file\u001b[38;5;241m.\u001b[39mread()\n\u001b[0;32m      5\u001b[0m \u001b[38;5;28;01mexcept\u001b[39;00m \u001b[38;5;167;01mPermissionError\u001b[39;00m:\n",
      "File \u001b[1;32m~\\AppData\\Roaming\\Python\\Python312\\site-packages\\IPython\\core\\interactiveshell.py:324\u001b[0m, in \u001b[0;36m_modified_open\u001b[1;34m(file, *args, **kwargs)\u001b[0m\n\u001b[0;32m    317\u001b[0m \u001b[38;5;28;01mif\u001b[39;00m file \u001b[38;5;129;01min\u001b[39;00m {\u001b[38;5;241m0\u001b[39m, \u001b[38;5;241m1\u001b[39m, \u001b[38;5;241m2\u001b[39m}:\n\u001b[0;32m    318\u001b[0m     \u001b[38;5;28;01mraise\u001b[39;00m \u001b[38;5;167;01mValueError\u001b[39;00m(\n\u001b[0;32m    319\u001b[0m         \u001b[38;5;124mf\u001b[39m\u001b[38;5;124m\"\u001b[39m\u001b[38;5;124mIPython won\u001b[39m\u001b[38;5;124m'\u001b[39m\u001b[38;5;124mt let you open fd=\u001b[39m\u001b[38;5;132;01m{\u001b[39;00mfile\u001b[38;5;132;01m}\u001b[39;00m\u001b[38;5;124m by default \u001b[39m\u001b[38;5;124m\"\u001b[39m\n\u001b[0;32m    320\u001b[0m         \u001b[38;5;124m\"\u001b[39m\u001b[38;5;124mas it is likely to crash IPython. If you know what you are doing, \u001b[39m\u001b[38;5;124m\"\u001b[39m\n\u001b[0;32m    321\u001b[0m         \u001b[38;5;124m\"\u001b[39m\u001b[38;5;124myou can use builtins\u001b[39m\u001b[38;5;124m'\u001b[39m\u001b[38;5;124m open.\u001b[39m\u001b[38;5;124m\"\u001b[39m\n\u001b[0;32m    322\u001b[0m     )\n\u001b[1;32m--> 324\u001b[0m \u001b[38;5;28;01mreturn\u001b[39;00m \u001b[43mio_open\u001b[49m\u001b[43m(\u001b[49m\u001b[43mfile\u001b[49m\u001b[43m,\u001b[49m\u001b[43m \u001b[49m\u001b[38;5;241;43m*\u001b[39;49m\u001b[43margs\u001b[49m\u001b[43m,\u001b[49m\u001b[43m \u001b[49m\u001b[38;5;241;43m*\u001b[39;49m\u001b[38;5;241;43m*\u001b[39;49m\u001b[43mkwargs\u001b[49m\u001b[43m)\u001b[49m\n",
      "\u001b[1;31mFileNotFoundError\u001b[0m: [Errno 2] No such file or directory: '/root/protected_file.txt'"
     ]
    }
   ],
   "source": [
    "# 5 Write a Python program that opens a file and handles a PermissionError exception if there is a permission issue.\n",
    "try:\n",
    "    with open('/root/protected_file.txt', 'r') as file:\n",
    "        content = file.read()\n",
    "except PermissionError:\n",
    "    print(\"Error: You do not have permission to access this file.\")\n",
    "\n",
    "\n",
    "\n"
   ]
  },
  {
   "cell_type": "code",
   "execution_count": 8,
   "metadata": {},
   "outputs": [
    {
     "name": "stdout",
     "output_type": "stream",
     "text": [
      "Error: List index out of range.\n"
     ]
    }
   ],
   "source": [
    "# 6. Write a Python program that executes an operation on a list and handles an IndexError exception if the index is out of range.\n",
    "try:\n",
    "    lst = [1, 2, 3]\n",
    "    print(lst[5])\n",
    "except IndexError:\n",
    "    print(\"Error: List index out of range.\")"
   ]
  },
  {
   "cell_type": "code",
   "execution_count": null,
   "metadata": {},
   "outputs": [],
   "source": [
    "# 7. Write a Python program that prompts the user to input a number and handles a KeyboardInterrupt exception if the user cancels the input.\n",
    "try:\n",
    "    num = input(\"Enter a number (press Ctrl+C to cancel): \")\n",
    "    print(\"You entered:\", num)\n",
    "except KeyboardInterrupt:\n",
    "    print(\"\\nOperation cancelled by user.\")"
   ]
  },
  {
   "cell_type": "code",
   "execution_count": 9,
   "metadata": {},
   "outputs": [
    {
     "name": "stdout",
     "output_type": "stream",
     "text": [
      "Result: 0.75\n"
     ]
    }
   ],
   "source": [
    "# 8. Write a Python program that executes division and handles an ArithmeticError exception if there is an arithmetic error.\n",
    "try:\n",
    "    a = int(input(\"Enter a number: \"))\n",
    "    b = int(input(\"Enter another number: \"))\n",
    "    result = a / b\n",
    "    print(\"Result:\", result)\n",
    "except ArithmeticError as e:\n",
    "    print(\"Arithmetic error occurred:\", e)"
   ]
  },
  {
   "cell_type": "code",
   "execution_count": 10,
   "metadata": {},
   "outputs": [
    {
     "ename": "FileNotFoundError",
     "evalue": "[Errno 2] No such file or directory: 'sample_file.txt'",
     "output_type": "error",
     "traceback": [
      "\u001b[1;31m---------------------------------------------------------------------------\u001b[0m",
      "\u001b[1;31mFileNotFoundError\u001b[0m                         Traceback (most recent call last)",
      "Cell \u001b[1;32mIn[10], line 3\u001b[0m\n\u001b[0;32m      1\u001b[0m \u001b[38;5;66;03m# 9. Write a Python program that opens a file and handles a UnicodeDecodeError exception if there is an encoding issue.\u001b[39;00m\n\u001b[0;32m      2\u001b[0m \u001b[38;5;28;01mtry\u001b[39;00m:\n\u001b[1;32m----> 3\u001b[0m     \u001b[38;5;28;01mwith\u001b[39;00m \u001b[38;5;28;43mopen\u001b[39;49m\u001b[43m(\u001b[49m\u001b[38;5;124;43m'\u001b[39;49m\u001b[38;5;124;43msample_file.txt\u001b[39;49m\u001b[38;5;124;43m'\u001b[39;49m\u001b[43m,\u001b[49m\u001b[43m \u001b[49m\u001b[38;5;124;43m'\u001b[39;49m\u001b[38;5;124;43mr\u001b[39;49m\u001b[38;5;124;43m'\u001b[39;49m\u001b[43m,\u001b[49m\u001b[43m \u001b[49m\u001b[43mencoding\u001b[49m\u001b[38;5;241;43m=\u001b[39;49m\u001b[38;5;124;43m'\u001b[39;49m\u001b[38;5;124;43mutf-8\u001b[39;49m\u001b[38;5;124;43m'\u001b[39;49m\u001b[43m)\u001b[49m \u001b[38;5;28;01mas\u001b[39;00m file:\n\u001b[0;32m      4\u001b[0m         content \u001b[38;5;241m=\u001b[39m file\u001b[38;5;241m.\u001b[39mread()\n\u001b[0;32m      5\u001b[0m \u001b[38;5;28;01mexcept\u001b[39;00m \u001b[38;5;167;01mUnicodeDecodeError\u001b[39;00m:\n",
      "File \u001b[1;32m~\\AppData\\Roaming\\Python\\Python312\\site-packages\\IPython\\core\\interactiveshell.py:324\u001b[0m, in \u001b[0;36m_modified_open\u001b[1;34m(file, *args, **kwargs)\u001b[0m\n\u001b[0;32m    317\u001b[0m \u001b[38;5;28;01mif\u001b[39;00m file \u001b[38;5;129;01min\u001b[39;00m {\u001b[38;5;241m0\u001b[39m, \u001b[38;5;241m1\u001b[39m, \u001b[38;5;241m2\u001b[39m}:\n\u001b[0;32m    318\u001b[0m     \u001b[38;5;28;01mraise\u001b[39;00m \u001b[38;5;167;01mValueError\u001b[39;00m(\n\u001b[0;32m    319\u001b[0m         \u001b[38;5;124mf\u001b[39m\u001b[38;5;124m\"\u001b[39m\u001b[38;5;124mIPython won\u001b[39m\u001b[38;5;124m'\u001b[39m\u001b[38;5;124mt let you open fd=\u001b[39m\u001b[38;5;132;01m{\u001b[39;00mfile\u001b[38;5;132;01m}\u001b[39;00m\u001b[38;5;124m by default \u001b[39m\u001b[38;5;124m\"\u001b[39m\n\u001b[0;32m    320\u001b[0m         \u001b[38;5;124m\"\u001b[39m\u001b[38;5;124mas it is likely to crash IPython. If you know what you are doing, \u001b[39m\u001b[38;5;124m\"\u001b[39m\n\u001b[0;32m    321\u001b[0m         \u001b[38;5;124m\"\u001b[39m\u001b[38;5;124myou can use builtins\u001b[39m\u001b[38;5;124m'\u001b[39m\u001b[38;5;124m open.\u001b[39m\u001b[38;5;124m\"\u001b[39m\n\u001b[0;32m    322\u001b[0m     )\n\u001b[1;32m--> 324\u001b[0m \u001b[38;5;28;01mreturn\u001b[39;00m \u001b[43mio_open\u001b[49m\u001b[43m(\u001b[49m\u001b[43mfile\u001b[49m\u001b[43m,\u001b[49m\u001b[43m \u001b[49m\u001b[38;5;241;43m*\u001b[39;49m\u001b[43margs\u001b[49m\u001b[43m,\u001b[49m\u001b[43m \u001b[49m\u001b[38;5;241;43m*\u001b[39;49m\u001b[38;5;241;43m*\u001b[39;49m\u001b[43mkwargs\u001b[49m\u001b[43m)\u001b[49m\n",
      "\u001b[1;31mFileNotFoundError\u001b[0m: [Errno 2] No such file or directory: 'sample_file.txt'"
     ]
    }
   ],
   "source": [
    "# 9. Write a Python program that opens a file and handles a UnicodeDecodeError exception if there is an encoding issue.\n",
    "try:\n",
    "    with open('sample_file.txt', 'r', encoding='utf-8') as file:\n",
    "        content = file.read()\n",
    "except UnicodeDecodeError:\n",
    "    print(\"Error: Cannot decode file with UTF-8 encoding.\")"
   ]
  },
  {
   "cell_type": "code",
   "execution_count": 11,
   "metadata": {},
   "outputs": [
    {
     "name": "stdout",
     "output_type": "stream",
     "text": [
      "Error: Attribute not found for list object.\n"
     ]
    }
   ],
   "source": [
    "# 10. Write a Python program that executes a list operation and handles an AttributeError exception if the attribute does not exist.\n",
    "try:\n",
    "    lst = [1, 2, 3]\n",
    "    lst.upper()  # invalid method for list\n",
    "except AttributeError:\n",
    "    print(\"Error: Attribute not found for list object.\")\n"
   ]
  },
  {
   "cell_type": "code",
   "execution_count": null,
   "metadata": {},
   "outputs": [],
   "source": [
    "File Input/Output Exercises\n",
    "\n",
    "\n",
    "\n",
    "\n",
    "\n",
    "\n",
    "Write a Python program that takes a text file as input and returns the number of words in a given text file.\n",
    "\n",
    "Note: Some words can be separated by a comma with no space.\n",
    "Write a Python program to extract characters from various text files and put them into a list.\n",
    "\n",
    "Write a Python program to generate 26 text files named A.txt, B.txt, and so on up to Z.txt.\n",
    "\n",
    "Write a Python program to create a file where all letters of the English alphabet are listed with a specified number of letters on each line."
   ]
  },
  {
   "cell_type": "code",
   "execution_count": 12,
   "metadata": {},
   "outputs": [
    {
     "ename": "FileNotFoundError",
     "evalue": "[Errno 2] No such file or directory: 'example.txt'",
     "output_type": "error",
     "traceback": [
      "\u001b[1;31m---------------------------------------------------------------------------\u001b[0m",
      "\u001b[1;31mFileNotFoundError\u001b[0m                         Traceback (most recent call last)",
      "Cell \u001b[1;32mIn[12], line 3\u001b[0m\n\u001b[0;32m      1\u001b[0m \u001b[38;5;66;03m# 1 Write a Python program to read an entire text file.\u001b[39;00m\n\u001b[1;32m----> 3\u001b[0m \u001b[38;5;28;01mwith\u001b[39;00m \u001b[38;5;28;43mopen\u001b[39;49m\u001b[43m(\u001b[49m\u001b[38;5;124;43m'\u001b[39;49m\u001b[38;5;124;43mexample.txt\u001b[39;49m\u001b[38;5;124;43m'\u001b[39;49m\u001b[43m,\u001b[49m\u001b[43m \u001b[49m\u001b[38;5;124;43m'\u001b[39;49m\u001b[38;5;124;43mr\u001b[39;49m\u001b[38;5;124;43m'\u001b[39;49m\u001b[43m)\u001b[49m \u001b[38;5;28;01mas\u001b[39;00m file:\n\u001b[0;32m      4\u001b[0m     f \u001b[38;5;241m=\u001b[39m file\u001b[38;5;241m.\u001b[39mread()\n\u001b[0;32m      5\u001b[0m     \u001b[38;5;28mprint\u001b[39m(f)\n",
      "File \u001b[1;32m~\\AppData\\Roaming\\Python\\Python312\\site-packages\\IPython\\core\\interactiveshell.py:324\u001b[0m, in \u001b[0;36m_modified_open\u001b[1;34m(file, *args, **kwargs)\u001b[0m\n\u001b[0;32m    317\u001b[0m \u001b[38;5;28;01mif\u001b[39;00m file \u001b[38;5;129;01min\u001b[39;00m {\u001b[38;5;241m0\u001b[39m, \u001b[38;5;241m1\u001b[39m, \u001b[38;5;241m2\u001b[39m}:\n\u001b[0;32m    318\u001b[0m     \u001b[38;5;28;01mraise\u001b[39;00m \u001b[38;5;167;01mValueError\u001b[39;00m(\n\u001b[0;32m    319\u001b[0m         \u001b[38;5;124mf\u001b[39m\u001b[38;5;124m\"\u001b[39m\u001b[38;5;124mIPython won\u001b[39m\u001b[38;5;124m'\u001b[39m\u001b[38;5;124mt let you open fd=\u001b[39m\u001b[38;5;132;01m{\u001b[39;00mfile\u001b[38;5;132;01m}\u001b[39;00m\u001b[38;5;124m by default \u001b[39m\u001b[38;5;124m\"\u001b[39m\n\u001b[0;32m    320\u001b[0m         \u001b[38;5;124m\"\u001b[39m\u001b[38;5;124mas it is likely to crash IPython. If you know what you are doing, \u001b[39m\u001b[38;5;124m\"\u001b[39m\n\u001b[0;32m    321\u001b[0m         \u001b[38;5;124m\"\u001b[39m\u001b[38;5;124myou can use builtins\u001b[39m\u001b[38;5;124m'\u001b[39m\u001b[38;5;124m open.\u001b[39m\u001b[38;5;124m\"\u001b[39m\n\u001b[0;32m    322\u001b[0m     )\n\u001b[1;32m--> 324\u001b[0m \u001b[38;5;28;01mreturn\u001b[39;00m \u001b[43mio_open\u001b[49m\u001b[43m(\u001b[49m\u001b[43mfile\u001b[49m\u001b[43m,\u001b[49m\u001b[43m \u001b[49m\u001b[38;5;241;43m*\u001b[39;49m\u001b[43margs\u001b[49m\u001b[43m,\u001b[49m\u001b[43m \u001b[49m\u001b[38;5;241;43m*\u001b[39;49m\u001b[38;5;241;43m*\u001b[39;49m\u001b[43mkwargs\u001b[49m\u001b[43m)\u001b[49m\n",
      "\u001b[1;31mFileNotFoundError\u001b[0m: [Errno 2] No such file or directory: 'example.txt'"
     ]
    }
   ],
   "source": [
    "# 1 Write a Python program to read an entire text file.\n",
    "\n",
    "with open('example.txt', 'r') as file:\n",
    "    f = file.read()\n",
    "    print(f)"
   ]
  },
  {
   "cell_type": "code",
   "execution_count": 14,
   "metadata": {},
   "outputs": [
    {
     "ename": "FileNotFoundError",
     "evalue": "[Errno 2] No such file or directory: 'example.txt'",
     "output_type": "error",
     "traceback": [
      "\u001b[1;31m---------------------------------------------------------------------------\u001b[0m",
      "\u001b[1;31mFileNotFoundError\u001b[0m                         Traceback (most recent call last)",
      "Cell \u001b[1;32mIn[14], line 4\u001b[0m\n\u001b[0;32m      1\u001b[0m \u001b[38;5;66;03m# 2. Write a Python program to read first n lines of a file.\u001b[39;00m\n\u001b[0;32m      2\u001b[0m \u001b[38;5;66;03m# Python program to read first n lines of a file\u001b[39;00m\n\u001b[1;32m----> 4\u001b[0m \u001b[38;5;28;01mwith\u001b[39;00m \u001b[38;5;28;43mopen\u001b[39;49m\u001b[43m(\u001b[49m\u001b[43mfilename\u001b[49m\u001b[43m,\u001b[49m\u001b[43m \u001b[49m\u001b[38;5;124;43m'\u001b[39;49m\u001b[38;5;124;43mr\u001b[39;49m\u001b[38;5;124;43m'\u001b[39;49m\u001b[43m)\u001b[49m \u001b[38;5;28;01mas\u001b[39;00m file:\n\u001b[0;32m      5\u001b[0m         lines \u001b[38;5;241m=\u001b[39m file\u001b[38;5;241m.\u001b[39mreadlines()[:n]\n\u001b[0;32m      6\u001b[0m         \u001b[38;5;28mprint\u001b[39m(\u001b[38;5;124m'\u001b[39m\u001b[38;5;124m'\u001b[39m\u001b[38;5;241m.\u001b[39mjoin(lines))\n",
      "File \u001b[1;32m~\\AppData\\Roaming\\Python\\Python312\\site-packages\\IPython\\core\\interactiveshell.py:324\u001b[0m, in \u001b[0;36m_modified_open\u001b[1;34m(file, *args, **kwargs)\u001b[0m\n\u001b[0;32m    317\u001b[0m \u001b[38;5;28;01mif\u001b[39;00m file \u001b[38;5;129;01min\u001b[39;00m {\u001b[38;5;241m0\u001b[39m, \u001b[38;5;241m1\u001b[39m, \u001b[38;5;241m2\u001b[39m}:\n\u001b[0;32m    318\u001b[0m     \u001b[38;5;28;01mraise\u001b[39;00m \u001b[38;5;167;01mValueError\u001b[39;00m(\n\u001b[0;32m    319\u001b[0m         \u001b[38;5;124mf\u001b[39m\u001b[38;5;124m\"\u001b[39m\u001b[38;5;124mIPython won\u001b[39m\u001b[38;5;124m'\u001b[39m\u001b[38;5;124mt let you open fd=\u001b[39m\u001b[38;5;132;01m{\u001b[39;00mfile\u001b[38;5;132;01m}\u001b[39;00m\u001b[38;5;124m by default \u001b[39m\u001b[38;5;124m\"\u001b[39m\n\u001b[0;32m    320\u001b[0m         \u001b[38;5;124m\"\u001b[39m\u001b[38;5;124mas it is likely to crash IPython. If you know what you are doing, \u001b[39m\u001b[38;5;124m\"\u001b[39m\n\u001b[0;32m    321\u001b[0m         \u001b[38;5;124m\"\u001b[39m\u001b[38;5;124myou can use builtins\u001b[39m\u001b[38;5;124m'\u001b[39m\u001b[38;5;124m open.\u001b[39m\u001b[38;5;124m\"\u001b[39m\n\u001b[0;32m    322\u001b[0m     )\n\u001b[1;32m--> 324\u001b[0m \u001b[38;5;28;01mreturn\u001b[39;00m \u001b[43mio_open\u001b[49m\u001b[43m(\u001b[49m\u001b[43mfile\u001b[49m\u001b[43m,\u001b[49m\u001b[43m \u001b[49m\u001b[38;5;241;43m*\u001b[39;49m\u001b[43margs\u001b[49m\u001b[43m,\u001b[49m\u001b[43m \u001b[49m\u001b[38;5;241;43m*\u001b[39;49m\u001b[38;5;241;43m*\u001b[39;49m\u001b[43mkwargs\u001b[49m\u001b[43m)\u001b[49m\n",
      "\u001b[1;31mFileNotFoundError\u001b[0m: [Errno 2] No such file or directory: 'example.txt'"
     ]
    }
   ],
   "source": [
    "# 2. Write a Python program to read first n lines of a file.\n",
    "# Python program to read first n lines of a file\n",
    "\n",
    "with open(filename, 'r') as file:\n",
    "        lines = file.readlines()[:n]\n",
    "        print(''.join(lines))"
   ]
  },
  {
   "cell_type": "code",
   "execution_count": 15,
   "metadata": {},
   "outputs": [
    {
     "name": "stdout",
     "output_type": "stream",
     "text": [
      "Updated file content:\n",
      "\n",
      "This is the new line being added.\n",
      "\n"
     ]
    }
   ],
   "source": [
    "# 3\n",
    "# Write a Python program to append text to a file and display the text.\n",
    "\n",
    "filename = 'example.txt'\n",
    "text_to_append = \"This is the new line being added.\\n\"\n",
    "\n",
    "# Append text to the file\n",
    "with open(filename, 'a') as file:\n",
    "    file.write(text_to_append)\n",
    "\n",
    "# Read and display the entire content\n",
    "with open(filename, 'r') as file:\n",
    "    content = file.read()\n",
    "    print(\"Updated file content:\\n\")\n",
    "    print(content)"
   ]
  },
  {
   "cell_type": "code",
   "execution_count": 16,
   "metadata": {},
   "outputs": [
    {
     "name": "stdout",
     "output_type": "stream",
     "text": [
      "This is the new line being added.\n",
      "\n"
     ]
    }
   ],
   "source": [
    "# 4 Write a Python program to read last n lines of a file.\n",
    "filename = 'example.txt'\n",
    "n = 5\n",
    "\n",
    "with open(filename, 'r') as file:\n",
    "    lines = file.readlines()\n",
    "    print(''.join(lines[-n:]))\n"
   ]
  },
  {
   "cell_type": "code",
   "execution_count": 17,
   "metadata": {},
   "outputs": [
    {
     "name": "stdout",
     "output_type": "stream",
     "text": [
      "['This is the new line being added.\\n']\n"
     ]
    }
   ],
   "source": [
    "# 5 Write a Python program to read a file line by line and store it into a list.\n",
    "\n",
    "with open('example.txt', 'r') as file:\n",
    "    lines_list = file.readlines()\n",
    "\n",
    "print(lines_list)"
   ]
  },
  {
   "cell_type": "code",
   "execution_count": 18,
   "metadata": {},
   "outputs": [
    {
     "name": "stdout",
     "output_type": "stream",
     "text": [
      "This is the new line being added.\n",
      "\n"
     ]
    }
   ],
   "source": [
    "# 6 Write a Python program to read a file line by line and store it into a variable.\n",
    "with open('example.txt', 'r') as file:\n",
    "    text_variable = file.read()\n",
    "\n",
    "print(text_variable)"
   ]
  },
  {
   "cell_type": "code",
   "execution_count": 20,
   "metadata": {},
   "outputs": [
    {
     "name": "stdout",
     "output_type": "stream",
     "text": [
      "['This is the new line being added.\\n']\n"
     ]
    }
   ],
   "source": [
    "# 7 Write a Python program to read a file line by line and store it into an array.\n",
    "import numpy as np\n",
    "\n",
    "with open('example.txt', 'r') as file:\n",
    "    array = np.array(file.readlines())\n",
    "\n",
    "print(array)"
   ]
  },
  {
   "cell_type": "code",
   "execution_count": null,
   "metadata": {},
   "outputs": [],
   "source": [
    "# 8 Write a Python program to find the longest words.\n",
    "with open('example.txt', 'r') as file:\n",
    "    words = file.read().split()\n",
    "    max_len = max(len(word) for word in words)\n",
    "    longest = [word for word in words if len(word) == max_len]\n",
    "\n",
    "print(\"Longest word(s):\", longest)"
   ]
  },
  {
   "cell_type": "code",
   "execution_count": 29,
   "metadata": {},
   "outputs": [
    {
     "data": {
      "text/plain": [
       "3"
      ]
     },
     "execution_count": 29,
     "metadata": {},
     "output_type": "execute_result"
    }
   ],
   "source": [
    "# 9 Write a Python program to count the number of lines in a text file.\n",
    "\n",
    "with open('example.txt', 'r') as file:\n",
    "    line_count = len(file.readlines())\n",
    "\n",
    "line_count"
   ]
  },
  {
   "cell_type": "code",
   "execution_count": 26,
   "metadata": {},
   "outputs": [
    {
     "name": "stdout",
     "output_type": "stream",
     "text": [
      "Word frequencies:\n",
      "Counter({'apple': 1, 'banana': 1, 'cherry': 1})\n"
     ]
    }
   ],
   "source": [
    "# 10 Write a Python program to count the frequency of words in a file.\n",
    "from collections import Counter\n",
    "\n",
    "with open('example.txt', 'r') as file:\n",
    "    words = file.read().split()\n",
    "    word_freq = Counter(words)\n",
    "\n",
    "word_freq"
   ]
  },
  {
   "cell_type": "code",
   "execution_count": 28,
   "metadata": {},
   "outputs": [
    {
     "name": "stdout",
     "output_type": "stream",
     "text": [
      "Word frequencies:\n",
      "{'apple': 1, 'banana': 1, 'cherry': 1}\n"
     ]
    }
   ],
   "source": [
    "with open('example.txt', 'r') as file:\n",
    "    words = file.read().split()\n",
    "\n",
    "word_freq = {}\n",
    "\n",
    "for word in words:\n",
    "    if word in word_freq:\n",
    "        word_freq[word] += 1\n",
    "    else:\n",
    "        word_freq[word] = 1\n",
    "\n",
    "print(\"Word frequencies:\")\n",
    "print(word_freq)"
   ]
  },
  {
   "cell_type": "code",
   "execution_count": 23,
   "metadata": {},
   "outputs": [
    {
     "name": "stdout",
     "output_type": "stream",
     "text": [
      "File size in bytes: 23\n"
     ]
    }
   ],
   "source": [
    "# 11 Write a Python program to get the file size of a plain file.\n",
    "import os\n",
    "\n",
    "file_size = os.path.getsize('example.txt')  # in bytes\n",
    "print(\"File size in bytes:\", file_size)\n"
   ]
  },
  {
   "cell_type": "code",
   "execution_count": 24,
   "metadata": {},
   "outputs": [
    {
     "name": "stdout",
     "output_type": "stream",
     "text": [
      "File size in bytes: 23\n"
     ]
    }
   ],
   "source": [
    "with open('example.txt', 'rb') as f:\n",
    "    f.seek(0, 2)        # Move pointer to the end of the file\n",
    "    file_size = f.tell()  # Tell gives you the byte offset from the start\n",
    "\n",
    "print(\"File size in bytes:\", file_size)\n"
   ]
  },
  {
   "cell_type": "code",
   "execution_count": 22,
   "metadata": {},
   "outputs": [],
   "source": [
    "# 12 Write a Python program to write a list to a file.\n",
    "items = ['apple', 'banana', 'cherry']\n",
    "\n",
    "with open('example.txt', 'w') as file:\n",
    "    for item in items:\n",
    "        file.write(item + '\\n')"
   ]
  },
  {
   "cell_type": "code",
   "execution_count": 33,
   "metadata": {},
   "outputs": [
    {
     "name": "stdout",
     "output_type": "stream",
     "text": [
      "File copied successfully.\n"
     ]
    }
   ],
   "source": [
    "# 13 Write a Python program to copy the contents of a file to another file.\n",
    "with open('source.txt', 'w') as f: f.write(\"This is the source file content.\")\n",
    "source_file = 'source.txt'\n",
    "destination_file = 'copy.txt'\n",
    "\n",
    "with open(source_file, 'r') as src:\n",
    "    content = src.read()\n",
    "\n",
    "with open(destination_file, 'w') as dest:\n",
    "    dest.write(content)\n",
    "\n",
    "print(\"File copied successfully.\")\n",
    "\n",
    "\n",
    "\n"
   ]
  },
  {
   "cell_type": "code",
   "execution_count": 40,
   "metadata": {},
   "outputs": [
    {
     "name": "stdout",
     "output_type": "stream",
     "text": [
      "Lines combined and written to combined.txt\n"
     ]
    }
   ],
   "source": [
    "# 14 Write a Python program to combine each line from the first file with the corresponding line in the second file.\n",
    "\n",
    "# Step 1: Create file1.txt\n",
    "with open('file1.txt', 'w') as f1:\n",
    "    f1.write(\"Hello\\nGood\\nNice\\n\")\n",
    "\n",
    "# Step 2: Create file2.txt\n",
    "with open('file2.txt', 'w') as f2:\n",
    "    f2.write(\"World\\nMorning\\nTo meet you\\n\")\n",
    "\n",
    "# # Step 3: Combine lines and save to combined.txt\n",
    "with open('file1.txt', 'r') as f1, open('file2.txt', 'r') as f2, open('combined.txt', 'w') as out:\n",
    "    for line1, line2 in zip(f1, f2):\n",
    "        combined = line1.strip() + \" \" + line2.strip() + \"\\n\"\n",
    "        out.write(combined)\n",
    "\n",
    "print(\"Lines combined and written to combined.txt\")\n"
   ]
  },
  {
   "cell_type": "code",
   "execution_count": 41,
   "metadata": {},
   "outputs": [
    {
     "name": "stdout",
     "output_type": "stream",
     "text": [
      "Random line: banana\n"
     ]
    }
   ],
   "source": [
    "# 15 Write a Python program to read a random line from a file.\n",
    "import random\n",
    "\n",
    "filename = 'example.txt'\n",
    "\n",
    "with open(filename, 'r') as file:\n",
    "    lines = file.readlines()\n",
    "\n",
    "random_line = random.choice(lines).strip()\n",
    "print(\"Random line:\", random_line)\n"
   ]
  },
  {
   "cell_type": "code",
   "execution_count": 43,
   "metadata": {},
   "outputs": [
    {
     "name": "stdout",
     "output_type": "stream",
     "text": [
      "Is file closed? False\n",
      "Is file closed? True\n"
     ]
    }
   ],
   "source": [
    "# 16 Write a Python program to assess if a file is closed or not.\n",
    "file = open('example.txt', 'r')\n",
    "\n",
    "print(\"Is file closed?\", file.closed) \n",
    "\n",
    "file.close()\n",
    "\n",
    "print(\"Is file closed?\", file.closed) "
   ]
  },
  {
   "cell_type": "code",
   "execution_count": 45,
   "metadata": {},
   "outputs": [],
   "source": [
    "#  17 Write a Python program to remove newline characters from a file.\n",
    "input_file = 'example.txt'\n",
    "output_file = 'no_newlines.txt'\n",
    "\n",
    "with open(input_file, 'r') as file:\n",
    "    content = file.read()\n",
    "\n",
    "# Remove all newline characters\n",
    "content_no_newlines = content.replace('\\n', '')\n",
    "\n",
    "with open(output_file, 'w') as file:\n",
    "    file.write(content_no_newlines)"
   ]
  },
  {
   "cell_type": "code",
   "execution_count": 51,
   "metadata": {},
   "outputs": [
    {
     "name": "stdout",
     "output_type": "stream",
     "text": [
      "Number of words: 10\n"
     ]
    }
   ],
   "source": [
    "# 18 Write a Python program that takes a text file as input and returns the number of words in a given text file.\n",
    "with open('my_text.txt', 'w') as file:\n",
    "    file.write(\"Hello,world! This is a test. Apples,oranges,and bananas.\")\n",
    "\n",
    "with open('my_text.txt', 'r') as file:\n",
    "    text = file.read()\n",
    "\n",
    "\n",
    "text = text.replace(',', ' ')\n",
    "words = text.split()\n",
    "\n",
    "word_count = len(words)\n",
    "print(\"Number of words:\", word_count)\n",
    "\n",
    "\n",
    "\n"
   ]
  },
  {
   "cell_type": "code",
   "execution_count": 52,
   "metadata": {},
   "outputs": [
    {
     "name": "stdout",
     "output_type": "stream",
     "text": [
      "['H', 'e', 'l', 'l', 'o', 'W', 'o', 'r', 'l', 'd', 'P', 'y', 't', 'h', 'o', 'n']\n"
     ]
    }
   ],
   "source": [
    "# 19 Write a Python program to extract characters from various text files and put them into a list.\n",
    "\n",
    "with open('alpha.txt', 'w') as f1:\n",
    "    f1.write(\"Hello\")\n",
    "\n",
    "with open('beta.txt', 'w') as f2:\n",
    "    f2.write(\"World\")\n",
    "\n",
    "with open('gamma.txt', 'w') as f3:\n",
    "    f3.write(\"Python\")\n",
    "\n",
    "\n",
    "files = ['alpha.txt', 'beta.txt', 'gamma.txt']\n",
    "\n",
    "chars_list = []\n",
    "\n",
    "for filename in files:\n",
    "    with open(filename, 'r') as file:\n",
    "        text = file.read()\n",
    "        chars_list.extend(text)\n",
    "\n",
    "print(chars_list)\n"
   ]
  },
  {
   "cell_type": "code",
   "execution_count": 53,
   "metadata": {},
   "outputs": [
    {
     "name": "stdout",
     "output_type": "stream",
     "text": [
      "26 files from A.txt to Z.txt created successfully.\n"
     ]
    }
   ],
   "source": [
    "# 20 Write a Python program to generate 26 text files named A.txt, B.txt, and so on up to Z.txt.\n",
    "import string\n",
    "\n",
    "for letter in string.ascii_uppercase:  # 'A' to 'Z'\n",
    "    filename = f\"{letter}.txt\"\n",
    "    with open(filename, 'w') as file:\n",
    "        file.write(f\"This is file {filename}\\n\")\n",
    "\n",
    "print(\"26 files from A.txt to Z.txt created successfully.\")\n"
   ]
  },
  {
   "cell_type": "code",
   "execution_count": 54,
   "metadata": {},
   "outputs": [
    {
     "name": "stdout",
     "output_type": "stream",
     "text": [
      "File 'alphabet.txt' created with letters per line: 3\n"
     ]
    }
   ],
   "source": [
    "# 21 Write a Python program to create a file where all letters of the English alphabet are listed with a specified number of letters on each line.\n",
    "import string\n",
    "\n",
    "# Specify how many letters per line\n",
    "letters_per_line = 3\n",
    "\n",
    "letters = string.ascii_lowercase  \n",
    "\n",
    "with open('alphabet.txt', 'w') as file:\n",
    "    for i in range(0, len(letters), letters_per_line):\n",
    "        line = letters[i:i+letters_per_line]\n",
    "        file.write(line + '\\n')\n",
    "\n",
    "print(\"File 'alphabet.txt' created with letters per line:\", letters_per_line)"
   ]
  },
  {
   "cell_type": "code",
   "execution_count": null,
   "metadata": {},
   "outputs": [],
   "source": []
  },
  {
   "cell_type": "code",
   "execution_count": null,
   "metadata": {},
   "outputs": [],
   "source": []
  },
  {
   "cell_type": "code",
   "execution_count": null,
   "metadata": {},
   "outputs": [],
   "source": []
  }
 ],
 "metadata": {
  "kernelspec": {
   "display_name": "Python 3",
   "language": "python",
   "name": "python3"
  },
  "language_info": {
   "codemirror_mode": {
    "name": "ipython",
    "version": 3
   },
   "file_extension": ".py",
   "mimetype": "text/x-python",
   "name": "python",
   "nbconvert_exporter": "python",
   "pygments_lexer": "ipython3",
   "version": "3.12.9"
  }
 },
 "nbformat": 4,
 "nbformat_minor": 2
}
