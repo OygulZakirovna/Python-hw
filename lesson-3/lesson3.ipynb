{
 "cells": [
  {
   "cell_type": "code",
   "execution_count": null,
   "metadata": {},
   "outputs": [],
   "source": [
    "Homework: List and Tuple Exercises"
   ]
  },
  {
   "cell_type": "code",
   "execution_count": 1,
   "metadata": {},
   "outputs": [
    {
     "name": "stdout",
     "output_type": "stream",
     "text": [
      "pineapple\n"
     ]
    }
   ],
   "source": [
    "# 1. Create and Access List Elements\n",
    "# Create a list containing five different fruits and print the third fruit.\n",
    "\n",
    "fruit = [\"apple\", \"banana\", \"pineapple\", \"cherry\", \"strawberry\"]\n",
    "\n",
    "print(fruit[2])"
   ]
  },
  {
   "cell_type": "code",
   "execution_count": 6,
   "metadata": {},
   "outputs": [
    {
     "name": "stdout",
     "output_type": "stream",
     "text": [
      "[1, 3, 5, 2, 4, 6]\n",
      "[1, 2, 3, 4, 5, 6]\n"
     ]
    }
   ],
   "source": [
    "# 2. Concatenate Two Lists\n",
    "# Create two lists of numbers and concatenate them into a single list.\n",
    "\n",
    "a = [1, 3, 5]\n",
    "b = [2, 4, 6]\n",
    "Merged = (a + b)\n",
    "print(Merged)\n",
    "\n",
    "merged = [num for pair in zip(a, b) for num in pair]\n",
    "print(merged)"
   ]
  },
  {
   "cell_type": "code",
   "execution_count": 10,
   "metadata": {},
   "outputs": [
    {
     "name": "stdout",
     "output_type": "stream",
     "text": [
      "[11, 44, 66]\n"
     ]
    }
   ],
   "source": [
    "# 3. Extract Elements from a List\n",
    "# Given a list of numbers, extract the first, middle, and last elements and store them in a new list.\n",
    "a = [11, 22, 33, 44, 55, 66]\n",
    "first = a[0]\n",
    "middle = a[len(a)//2]\n",
    "last = a[-1]\n",
    "b = [first,middle, last]\n",
    "print(b)"
   ]
  },
  {
   "cell_type": "code",
   "execution_count": null,
   "metadata": {},
   "outputs": [
    {
     "name": "stdout",
     "output_type": "stream",
     "text": [
      "('A', 'B', 'C', 2, 5, 7)\n"
     ]
    }
   ],
   "source": [
    "# 4. Convert List to Tuple\n",
    "# Create a list of your five favorite movies and convert it into a tuple.\n",
    "movies = [\"A\", \"B\", \"C\", 2 , 5, 7]\n",
    "converted = tuple(movies)\n",
    "print(converted)"
   ]
  },
  {
   "cell_type": "code",
   "execution_count": 15,
   "metadata": {},
   "outputs": [
    {
     "name": "stdout",
     "output_type": "stream",
     "text": [
      "Yes!\n",
      "True\n"
     ]
    }
   ],
   "source": [
    "# 5. Check Element in a List\n",
    "# Given a list of cities, check if \"Paris\" is in the list and print the result.\n",
    "\n",
    "cities = [\"New York\", \"Berlin\", \"London\", \"Paris\", \"Peru\"]\n",
    "if \"Paris\" in cities:\n",
    "    print(\"Yes!\")\n",
    "else:\n",
    "    print(\"No!\")\n",
    "print(\"Paris\" in cities)"
   ]
  },
  {
   "cell_type": "code",
   "execution_count": 16,
   "metadata": {},
   "outputs": [
    {
     "name": "stdout",
     "output_type": "stream",
     "text": [
      "[2, 4, 6, 8, 10, 2, 4, 6, 8, 10]\n"
     ]
    }
   ],
   "source": [
    "# 6. Duplicate a List Without Using Loops\n",
    "# Create a list of numbers and duplicate it without using loops.\n",
    "a = [2, 4, 6, 8, 10]\n",
    "duplicate = a*2\n",
    "print(duplicate)"
   ]
  },
  {
   "cell_type": "code",
   "execution_count": 20,
   "metadata": {},
   "outputs": [
    {
     "name": "stdout",
     "output_type": "stream",
     "text": [
      "[60, 20, 30, 40, 50, 10]\n"
     ]
    }
   ],
   "source": [
    "# 7. Swap First and Last Elements of a List\n",
    "# Given a list of numbers, swap the first and last elements.\n",
    "a = [10, 20, 30, 40, 50, 60]\n",
    "a[0], a[-1] = a[-1], a[0]\n",
    "print(a)"
   ]
  },
  {
   "cell_type": "code",
   "execution_count": 21,
   "metadata": {},
   "outputs": [
    {
     "name": "stdout",
     "output_type": "stream",
     "text": [
      "(4, 5, 6, 7)\n"
     ]
    }
   ],
   "source": [
    "# 8. Slice a Tuple\n",
    "# Create a tuple of numbers from 1 to 10 and print a slice from index 3 to 7.\n",
    "\n",
    "numbers = (1, 2, 3, 4, 5, 6, 7, 8, 9, 10)\n",
    "sliced = numbers[3:7]\n",
    "print(sliced)"
   ]
  },
  {
   "cell_type": "code",
   "execution_count": 23,
   "metadata": {},
   "outputs": [
    {
     "name": "stdout",
     "output_type": "stream",
     "text": [
      "2\n"
     ]
    }
   ],
   "source": [
    "# 9. Count Occurrences in a List\n",
    "# Create a list of colors and count how many times \"blue\" appears in the list.\n",
    "a = [\"white\", \"blue\", \"red\", \"green\", \"blue\", \"yellow\"]\n",
    "counted = a.count(\"blue\")\n",
    "print(counted)"
   ]
  },
  {
   "cell_type": "code",
   "execution_count": 28,
   "metadata": {},
   "outputs": [
    {
     "name": "stdout",
     "output_type": "stream",
     "text": [
      "3\n"
     ]
    }
   ],
   "source": [
    "# 10. Find the Index of an Element in a Tuple\n",
    "# Given a tuple of animals, find the index of \"lion\".\n",
    "\n",
    "animals = (\"zebra\", \"dolphin\", \"tiger\", \"lion\")\n",
    "index_l = animals.index(\"lion\")\n",
    "print(index_l)"
   ]
  },
  {
   "cell_type": "code",
   "execution_count": 29,
   "metadata": {},
   "outputs": [
    {
     "name": "stdout",
     "output_type": "stream",
     "text": [
      "(1, 2, 3, 4, 5, 6)\n"
     ]
    }
   ],
   "source": [
    "# 11. Merge Two Tuples\n",
    "# Create two tuples of numbers and merge them into a single tuple.\n",
    "\n",
    "a = (1, 2, 3)\n",
    "b = (4, 5, 6)\n",
    "merged = a + b\n",
    "print(merged)"
   ]
  },
  {
   "cell_type": "code",
   "execution_count": 31,
   "metadata": {},
   "outputs": [
    {
     "name": "stdout",
     "output_type": "stream",
     "text": [
      "5 3\n"
     ]
    }
   ],
   "source": [
    "# 12. Find the Length of a List and Tuple\n",
    "# Given a list and a tuple, find and print their lengths.\n",
    "ls = [1, 2, \"a\", \"bsgergergerg\", 1387565]\n",
    "tp = (29486, 966, \"afwygauyfg\")\n",
    "print(len(ls), len(tp))"
   ]
  },
  {
   "cell_type": "code",
   "execution_count": 32,
   "metadata": {},
   "outputs": [
    {
     "name": "stdout",
     "output_type": "stream",
     "text": [
      "[17, 8, 2002, 22, 11, 2000]\n"
     ]
    }
   ],
   "source": [
    "\n",
    "# 13. Convert Tuple to List\n",
    "# Create a tuple of five numbers and convert it into a list.\n",
    "\n",
    "num = (17, 8, 2002, 22, 11, 2000)\n",
    "my_list = list(num)\n",
    "print(my_list)"
   ]
  },
  {
   "cell_type": "code",
   "execution_count": 33,
   "metadata": {},
   "outputs": [
    {
     "name": "stdout",
     "output_type": "stream",
     "text": [
      "-2 222\n"
     ]
    }
   ],
   "source": [
    "\n",
    "# 14. Find Maximum and Minimum in a Tuple\n",
    "# Given a tuple of numbers, find and print the maximum and minimum values.\n",
    "a = (100, 1, 0, -2, 222)\n",
    "print(min(a), max(a))"
   ]
  },
  {
   "cell_type": "code",
   "execution_count": 34,
   "metadata": {},
   "outputs": [
    {
     "name": "stdout",
     "output_type": "stream",
     "text": [
      "('Gul', 'Oy', 'Oygul')\n"
     ]
    }
   ],
   "source": [
    "# 15. Reverse a Tuple\n",
    "# Create a tuple of words and print it in reverse order.\n",
    "a = (\"Oygul\", \"Oy\", \"Gul\")\n",
    "reversed = a[::-1]\n",
    "print(reversed)"
   ]
  }
 ],
 "metadata": {
  "kernelspec": {
   "display_name": "Python 3",
   "language": "python",
   "name": "python3"
  },
  "language_info": {
   "codemirror_mode": {
    "name": "ipython",
    "version": 3
   },
   "file_extension": ".py",
   "mimetype": "text/x-python",
   "name": "python",
   "nbconvert_exporter": "python",
   "pygments_lexer": "ipython3",
   "version": "3.12.8"
  }
 },
 "nbformat": 4,
 "nbformat_minor": 2
}
