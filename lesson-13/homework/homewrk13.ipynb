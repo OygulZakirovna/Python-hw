{
 "cells": [
  {
   "cell_type": "code",
   "execution_count": null,
   "metadata": {},
   "outputs": [],
   "source": [
    "# Homework:\n",
    "\n",
    "# 1. Age Calculator: Ask the user to enter their birthdate. Calculate and print their age in years, months, and days.\n",
    "# 2. Days Until Next Birthday: Similar to the first exercise, but this time, \n",
    "# calculate and print the number of days remaining until the user's next birthday.\n",
    "# 3. Meeting Scheduler: Ask the user to enter the current date and time, as well as the \n",
    "# duration of a meeting in hours and minutes. Calculate and print the date and time when the meeting will end.\n",
    "# 4. Timezone Converter: Create a program that allows the user to enter a date and time \n",
    "# along with their current timezone, and then convert and print the date and time in another timezone of their choice.\n",
    "# 5. Countdown Timer: Implement a countdown timer. Ask the user to input a future date and \n",
    "# time, and then continuously print the time remaining until that point in regular intervals (e.g., every second).\n",
    "# 6. Email Validator: Write a program that validates email addresses. Ask the user to input \n",
    "# an email address, and check if it follows a valid email format.\n",
    "# 7. Phone Number Formatter: Create a program that takes a phone number as input and formats\n",
    "# it according to a standard format. For example, convert \"1234567890\" to \"(123) 456-7890\".\n",
    "# 8. Password Strength Checker: Implement a password strength checker. Ask the user to input a \n",
    "# password and check if it meets certain criteria (e.g., minimum length, contains at least one uppercase letter, one lowercase letter, and one digit).\n",
    "# 9. Word Finder: Develop a program that finds all occurrences of a specific word in \n",
    "# a given text. Ask the user to input a word, and then search for and print all occurrences of that word in a sample text.\n",
    "# 10.Date Extractor: Write a program that extracts dates from a given text.\n",
    "# Ask the user to input a text, and then identify and print all the dates present in the text."
   ]
  },
  {
   "cell_type": "code",
   "execution_count": 4,
   "metadata": {},
   "outputs": [
    {
     "name": "stdout",
     "output_type": "stream",
     "text": [
      "You are 23 years, 1 months, and 1 days old.\n"
     ]
    }
   ],
   "source": [
    "# 1\n",
    "\n",
    "import datetime\n",
    "\n",
    "birth_input = input(\" Enter your birth date (YYYY-MM-DD): \")\n",
    "\n",
    "birth_date = datetime.datetime.strptime(birth_input, \"%Y-%m-%d\").date()\n",
    "\n",
    "today = datetime.date.today()\n",
    "\n",
    "dif = today - birth_date\n",
    "\n",
    "years = dif.days // 365\n",
    "months = (dif.days % 365) // 30\n",
    "days = (dif.days % 365) % 30\n",
    "\n",
    "print(f\"You are {years} years, {months} months, and {days} days old.\")"
   ]
  },
  {
   "cell_type": "code",
   "execution_count": 5,
   "metadata": {},
   "outputs": [
    {
     "name": "stdout",
     "output_type": "stream",
     "text": [
      "Your next birthday is in 91 days!\n"
     ]
    }
   ],
   "source": [
    "# 2\n",
    "import datetime\n",
    "\n",
    "\n",
    "birth_input = input(\"Enter your birth date (YYYY-MM-DD): \")\n",
    "birth_date = datetime.datetime.strptime(birth_input, \"%Y-%m-%d\").date()\n",
    "\n",
    "\n",
    "today = datetime.date.today()\n",
    "\n",
    "next_birthday = birth_date.replace(year=today.year)\n",
    "\n",
    "\n",
    "if next_birthday < today:\n",
    "    next_birthday = birth_date.replace(year=today.year + 1)\n",
    "\n",
    "\n",
    "days_remaining = (next_birthday - today).days\n",
    "\n",
    "\n",
    "print(f\"Your next birthday is in {days_remaining} days!\")"
   ]
  },
  {
   "cell_type": "code",
   "execution_count": null,
   "metadata": {},
   "outputs": [],
   "source": [
    "# 3\n",
    "#  Meeting Scheduler\n",
    "import datetime\n",
    "\n",
    "now_input = input(\"Enter current date and time (YYYY-MM-DD HH:MM): \")\n",
    "duration_hours = int(input(\"Enter meeting duration hours: \"))\n",
    "duration_minutes = int(input(\"Enter meeting duration minutes: \"))\n",
    "now = datetime.datetime.strptime(now_input, \"%Y-%m-%d %H:%M\")\n",
    "end_time = now + datetime.timedelta(hours=duration_hours, minutes=duration_minutes)\n",
    "print(\"Meeting will end at:\", end_time.strftime(\"%Y-%m-%d %H:%M\"))\n"
   ]
  },
  {
   "cell_type": "code",
   "execution_count": 7,
   "metadata": {},
   "outputs": [
    {
     "name": "stderr",
     "output_type": "stream",
     "text": [
      "\n",
      "[notice] A new release of pip is available: 24.3.1 -> 25.1.1\n",
      "[notice] To update, run: python.exe -m pip install --upgrade pip\n"
     ]
    },
    {
     "name": "stdout",
     "output_type": "stream",
     "text": [
      "Requirement already satisfied: pytz in c:\\users\\acer\\appdata\\local\\programs\\python\\python312\\lib\\site-packages (2025.2)\n",
      "Time in Europe/Berlin is: 2025-05-18 10:49\n"
     ]
    }
   ],
   "source": [
    "# 4\n",
    "!pip install pytz\n",
    "\n",
    "import datetime\n",
    "import pytz\n",
    "\n",
    "\n",
    "# Step 1: User input\n",
    "date_str = input(\"Enter date and time (YYYY-MM-DD HH:MM): \")\n",
    "source_timezone = input(\"Enter your current timezone (e.g., Asia/Tashkent): \")\n",
    "target_timezone = input(\"Enter the target timezone (e.g., Europe/London): \")\n",
    "\n",
    "# Step 2: Convert input to datetime object\n",
    "local_time = datetime.datetime.strptime(date_str, \"%Y-%m-%d %H:%M\")\n",
    "\n",
    "# Step 3: Attach source timezone\n",
    "source_tz = pytz.timezone(source_timezone)\n",
    "local_time = source_tz.localize(local_time)\n",
    "\n",
    "# Step 4: Convert to target timezone\n",
    "target_tz = pytz.timezone(target_timezone)\n",
    "converted_time = local_time.astimezone(target_tz)\n",
    "\n",
    "# Step 5: Show result\n",
    "print(\"Time in\", target_timezone, \"is:\", converted_time.strftime(\"%Y-%m-%d %H:%M\"))\n",
    "\n"
   ]
  },
  {
   "cell_type": "code",
   "execution_count": 9,
   "metadata": {},
   "outputs": [
    {
     "name": "stdout",
     "output_type": "stream",
     "text": [
      "Countdown started...\n",
      "Time remaining: 6 days, 10 hours, 3 minutes, 49 seconds\r"
     ]
    },
    {
     "ename": "KeyboardInterrupt",
     "evalue": "",
     "output_type": "error",
     "traceback": [
      "\u001b[1;31m---------------------------------------------------------------------------\u001b[0m",
      "\u001b[1;31mKeyboardInterrupt\u001b[0m                         Traceback (most recent call last)",
      "Cell \u001b[1;32mIn[9], line 37\u001b[0m\n\u001b[0;32m     34\u001b[0m \u001b[38;5;28mprint\u001b[39m(\u001b[38;5;124mf\u001b[39m\u001b[38;5;124m\"\u001b[39m\u001b[38;5;124mTime remaining: \u001b[39m\u001b[38;5;132;01m{\u001b[39;00mdays\u001b[38;5;132;01m}\u001b[39;00m\u001b[38;5;124m days, \u001b[39m\u001b[38;5;132;01m{\u001b[39;00mhours\u001b[38;5;132;01m}\u001b[39;00m\u001b[38;5;124m hours, \u001b[39m\u001b[38;5;132;01m{\u001b[39;00mminutes\u001b[38;5;132;01m}\u001b[39;00m\u001b[38;5;124m minutes, \u001b[39m\u001b[38;5;132;01m{\u001b[39;00mseconds\u001b[38;5;132;01m}\u001b[39;00m\u001b[38;5;124m seconds\u001b[39m\u001b[38;5;124m\"\u001b[39m, end\u001b[38;5;241m=\u001b[39m\u001b[38;5;124m\"\u001b[39m\u001b[38;5;130;01m\\r\u001b[39;00m\u001b[38;5;124m\"\u001b[39m)\n\u001b[0;32m     36\u001b[0m \u001b[38;5;66;03m# Step 6: Wait for 1 second before updating again\u001b[39;00m\n\u001b[1;32m---> 37\u001b[0m \u001b[43mtime\u001b[49m\u001b[38;5;241;43m.\u001b[39;49m\u001b[43msleep\u001b[49m\u001b[43m(\u001b[49m\u001b[38;5;241;43m1\u001b[39;49m\u001b[43m)\u001b[49m\n",
      "\u001b[1;31mKeyboardInterrupt\u001b[0m: "
     ]
    }
   ],
   "source": [
    "# 5\n",
    "import time\n",
    "import datetime\n",
    "\n",
    "# Step 1: Ask user for future date and time\n",
    "future_str = input(\"Enter a future date and time (YYYY-MM-DD HH:MM:SS): \")\n",
    "\n",
    "# Step 2: Convert user input string into a datetime object\n",
    "future_time = datetime.datetime.strptime(future_str, \"%Y-%m-%d %H:%M:%S\")\n",
    "\n",
    "print(\"Countdown started...\")\n",
    "\n",
    "# Step 3: Create a loop that runs until we reach the future time\n",
    "while True:\n",
    "    # Get current time\n",
    "    now = datetime.datetime.now()\n",
    "\n",
    "    # Calculate difference between future time and now\n",
    "    remaining = future_time - now\n",
    "\n",
    "    # If countdown finished, break the loop\n",
    "    if remaining.total_seconds() <= 0:\n",
    "        print(\"Time's up!\")\n",
    "        break\n",
    "\n",
    "    # Step 4: Extract days, hours, minutes, seconds from remaining time\n",
    "    days = remaining.days\n",
    "    seconds = remaining.seconds\n",
    "    hours = seconds // 3600\n",
    "    minutes = (seconds % 3600) // 60\n",
    "    seconds = seconds % 60\n",
    "\n",
    "    # Step 5: Print the remaining time, updating every second\n",
    "    print(f\"Time remaining: {days} days, {hours} hours, {minutes} minutes, {seconds} seconds\", end=\"\\r\")\n",
    "\n",
    "    # Step 6: Wait for 1 second before updating again\n",
    "    time.sleep(1)\n"
   ]
  },
  {
   "cell_type": "code",
   "execution_count": 10,
   "metadata": {},
   "outputs": [
    {
     "name": "stdout",
     "output_type": "stream",
     "text": [
      "Invalid email.\n"
     ]
    }
   ],
   "source": [
    "# 6. Email Validator\n",
    "import re\n",
    "email = input(\"Enter email address: \")\n",
    "pattern = r\"^[\\w\\.-]+@[\\w\\.-]+\\.\\w+$\"\n",
    "if re.match(pattern, email):\n",
    "    print(\"Valid email.\")\n",
    "else:\n",
    "    print(\"Invalid email.\")\n",
    "\n",
    "\n",
    "\n",
    "\n",
    "\n",
    "\n"
   ]
  },
  {
   "cell_type": "code",
   "execution_count": 11,
   "metadata": {},
   "outputs": [
    {
     "name": "stdout",
     "output_type": "stream",
     "text": [
      "Invalid input\n"
     ]
    }
   ],
   "source": [
    "# 7. Phone Number Formatter\n",
    "phone = input(\"Enter phone number (only digits): \")\n",
    "if len(phone) == 10:\n",
    "    formatted = f\"({phone[:3]}) {phone[3:6]}-{phone[6:]}\"\n",
    "    print(\"Formatted number:\", formatted)\n",
    "else:\n",
    "    print(\"Invalid input\")"
   ]
  },
  {
   "cell_type": "code",
   "execution_count": 12,
   "metadata": {},
   "outputs": [
    {
     "ename": "KeyboardInterrupt",
     "evalue": "Interrupted by user",
     "output_type": "error",
     "traceback": [
      "\u001b[1;31m---------------------------------------------------------------------------\u001b[0m",
      "\u001b[1;31mKeyboardInterrupt\u001b[0m                         Traceback (most recent call last)",
      "Cell \u001b[1;32mIn[12], line 2\u001b[0m\n\u001b[0;32m      1\u001b[0m \u001b[38;5;66;03m# 8. Password Strength Checker\u001b[39;00m\n\u001b[1;32m----> 2\u001b[0m password \u001b[38;5;241m=\u001b[39m \u001b[38;5;28;43minput\u001b[39;49m\u001b[43m(\u001b[49m\u001b[38;5;124;43m\"\u001b[39;49m\u001b[38;5;124;43mEnter a password: \u001b[39;49m\u001b[38;5;124;43m\"\u001b[39;49m\u001b[43m)\u001b[49m\n\u001b[0;32m      3\u001b[0m \u001b[38;5;28;01mif\u001b[39;00m (\u001b[38;5;28mlen\u001b[39m(password) \u001b[38;5;241m>\u001b[39m\u001b[38;5;241m=\u001b[39m \u001b[38;5;241m8\u001b[39m \u001b[38;5;129;01mand\u001b[39;00m\n\u001b[0;32m      4\u001b[0m     \u001b[38;5;28many\u001b[39m(c\u001b[38;5;241m.\u001b[39mislower() \u001b[38;5;28;01mfor\u001b[39;00m c \u001b[38;5;129;01min\u001b[39;00m password) \u001b[38;5;129;01mand\u001b[39;00m\n\u001b[0;32m      5\u001b[0m     \u001b[38;5;28many\u001b[39m(c\u001b[38;5;241m.\u001b[39misupper() \u001b[38;5;28;01mfor\u001b[39;00m c \u001b[38;5;129;01min\u001b[39;00m password) \u001b[38;5;129;01mand\u001b[39;00m\n\u001b[0;32m      6\u001b[0m     \u001b[38;5;28many\u001b[39m(c\u001b[38;5;241m.\u001b[39misdigit() \u001b[38;5;28;01mfor\u001b[39;00m c \u001b[38;5;129;01min\u001b[39;00m password)):\n\u001b[0;32m      7\u001b[0m     \u001b[38;5;28mprint\u001b[39m(\u001b[38;5;124m\"\u001b[39m\u001b[38;5;124mStrong password.\u001b[39m\u001b[38;5;124m\"\u001b[39m)\n",
      "File \u001b[1;32m~\\AppData\\Roaming\\Python\\Python312\\site-packages\\ipykernel\\kernelbase.py:1282\u001b[0m, in \u001b[0;36mKernel.raw_input\u001b[1;34m(self, prompt)\u001b[0m\n\u001b[0;32m   1280\u001b[0m     msg \u001b[38;5;241m=\u001b[39m \u001b[38;5;124m\"\u001b[39m\u001b[38;5;124mraw_input was called, but this frontend does not support input requests.\u001b[39m\u001b[38;5;124m\"\u001b[39m\n\u001b[0;32m   1281\u001b[0m     \u001b[38;5;28;01mraise\u001b[39;00m StdinNotImplementedError(msg)\n\u001b[1;32m-> 1282\u001b[0m \u001b[38;5;28;01mreturn\u001b[39;00m \u001b[38;5;28;43mself\u001b[39;49m\u001b[38;5;241;43m.\u001b[39;49m\u001b[43m_input_request\u001b[49m\u001b[43m(\u001b[49m\n\u001b[0;32m   1283\u001b[0m \u001b[43m    \u001b[49m\u001b[38;5;28;43mstr\u001b[39;49m\u001b[43m(\u001b[49m\u001b[43mprompt\u001b[49m\u001b[43m)\u001b[49m\u001b[43m,\u001b[49m\n\u001b[0;32m   1284\u001b[0m \u001b[43m    \u001b[49m\u001b[38;5;28;43mself\u001b[39;49m\u001b[38;5;241;43m.\u001b[39;49m\u001b[43m_parent_ident\u001b[49m\u001b[43m[\u001b[49m\u001b[38;5;124;43m\"\u001b[39;49m\u001b[38;5;124;43mshell\u001b[39;49m\u001b[38;5;124;43m\"\u001b[39;49m\u001b[43m]\u001b[49m\u001b[43m,\u001b[49m\n\u001b[0;32m   1285\u001b[0m \u001b[43m    \u001b[49m\u001b[38;5;28;43mself\u001b[39;49m\u001b[38;5;241;43m.\u001b[39;49m\u001b[43mget_parent\u001b[49m\u001b[43m(\u001b[49m\u001b[38;5;124;43m\"\u001b[39;49m\u001b[38;5;124;43mshell\u001b[39;49m\u001b[38;5;124;43m\"\u001b[39;49m\u001b[43m)\u001b[49m\u001b[43m,\u001b[49m\n\u001b[0;32m   1286\u001b[0m \u001b[43m    \u001b[49m\u001b[43mpassword\u001b[49m\u001b[38;5;241;43m=\u001b[39;49m\u001b[38;5;28;43;01mFalse\u001b[39;49;00m\u001b[43m,\u001b[49m\n\u001b[0;32m   1287\u001b[0m \u001b[43m\u001b[49m\u001b[43m)\u001b[49m\n",
      "File \u001b[1;32m~\\AppData\\Roaming\\Python\\Python312\\site-packages\\ipykernel\\kernelbase.py:1325\u001b[0m, in \u001b[0;36mKernel._input_request\u001b[1;34m(self, prompt, ident, parent, password)\u001b[0m\n\u001b[0;32m   1322\u001b[0m \u001b[38;5;28;01mexcept\u001b[39;00m \u001b[38;5;167;01mKeyboardInterrupt\u001b[39;00m:\n\u001b[0;32m   1323\u001b[0m     \u001b[38;5;66;03m# re-raise KeyboardInterrupt, to truncate traceback\u001b[39;00m\n\u001b[0;32m   1324\u001b[0m     msg \u001b[38;5;241m=\u001b[39m \u001b[38;5;124m\"\u001b[39m\u001b[38;5;124mInterrupted by user\u001b[39m\u001b[38;5;124m\"\u001b[39m\n\u001b[1;32m-> 1325\u001b[0m     \u001b[38;5;28;01mraise\u001b[39;00m \u001b[38;5;167;01mKeyboardInterrupt\u001b[39;00m(msg) \u001b[38;5;28;01mfrom\u001b[39;00m\u001b[38;5;250m \u001b[39m\u001b[38;5;28;01mNone\u001b[39;00m\n\u001b[0;32m   1326\u001b[0m \u001b[38;5;28;01mexcept\u001b[39;00m \u001b[38;5;167;01mException\u001b[39;00m:\n\u001b[0;32m   1327\u001b[0m     \u001b[38;5;28mself\u001b[39m\u001b[38;5;241m.\u001b[39mlog\u001b[38;5;241m.\u001b[39mwarning(\u001b[38;5;124m\"\u001b[39m\u001b[38;5;124mInvalid Message:\u001b[39m\u001b[38;5;124m\"\u001b[39m, exc_info\u001b[38;5;241m=\u001b[39m\u001b[38;5;28;01mTrue\u001b[39;00m)\n",
      "\u001b[1;31mKeyboardInterrupt\u001b[0m: Interrupted by user"
     ]
    }
   ],
   "source": [
    "# 8. Password Strength Checker\n",
    "password = input(\"Enter a password: \")\n",
    "if (len(password) >= 8 and\n",
    "    any(c.islower() for c in password) and\n",
    "    any(c.isupper() for c in password) and\n",
    "    any(c.isdigit() for c in password)):\n",
    "    print(\"Strong password.\")\n",
    "else:\n",
    "    print(\"Weak password.\")\n"
   ]
  },
  {
   "cell_type": "code",
   "execution_count": null,
   "metadata": {},
   "outputs": [],
   "source": [
    "# 9. Word Finder\n",
    "text = \"This is a sample text. The word sample appears multiple times in this sample.\"\n",
    "word = input(\"Enter word to search: \")\n",
    "count = text.lower().count(word.lower())\n",
    "print(f\"'{word}' found {count} times.\")"
   ]
  },
  {
   "cell_type": "code",
   "execution_count": null,
   "metadata": {},
   "outputs": [],
   "source": [
    "# 10. Date Extractor\n",
    "text_input = input(\"Enter text: \")\n",
    "date_pattern = r\"\\b(?:\\d{4}-\\d{2}-\\d{2}|\\w+ \\d{1,2}, \\d{4})\\b\"\n",
    "found_dates = re.findall(date_pattern, text_input)\n",
    "print(\"Dates found:\", found_dates)\n"
   ]
  }
 ],
 "metadata": {
  "kernelspec": {
   "display_name": "Python 3",
   "language": "python",
   "name": "python3"
  },
  "language_info": {
   "codemirror_mode": {
    "name": "ipython",
    "version": 3
   },
   "file_extension": ".py",
   "mimetype": "text/x-python",
   "name": "python",
   "nbconvert_exporter": "python",
   "pygments_lexer": "ipython3",
   "version": "3.12.9"
  }
 },
 "nbformat": 4,
 "nbformat_minor": 2
}
